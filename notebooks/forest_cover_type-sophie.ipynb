{
  "cells": [
    {
      "metadata": {
        "_uuid": "9cc0660c475ab1bf289ad74bd269b7372cf34688"
      },
      "cell_type": "markdown",
      "source": "# Forest Cover Type\n\nThe goal of this project is to predict the correct forest cover type (defined as an integer between 1 and 7), out of 7 possibilities:\n\n1. Spruce/Fir\n2. Lodgepole Pine\n3. Ponderosa Pine\n4. Cottonwood/Willow\n5. Aspen\n6. Douglas-fir\n7. Krummholz\n\nThe predictions are evaluated using multi-class classification accuracy.\n\nThis study area includes four wilderness areas located in the Roosevelt National Forest of northern Colorado. \n\nThe features are:\n- Elevation - Elevation in meters\n- Aspect - Aspect in degrees azimuth\n- Slope - Slope in degrees\n- Horizontal_Distance_To_Hydrology - Horz Dist to nearest surface water features\n- Vertical_Distance_To_Hydrology - Vert Dist to nearest surface water features\n- Horizontal_Distance_To_Roadways - Horz Dist to nearest roadway\n- Hillshade_9am (0 to 255 index) - Hillshade index at 9am, summer solstice\n- Hillshade_Noon (0 to 255 index) - Hillshade index at noon, summer solstice\n- Hillshade_3pm (0 to 255 index) - Hillshade index at 3pm, summer solstice\n- Horizontal_Distance_To_Fire_Points - Horz Dist to nearest wildfire ignition points\n- Wilderness_Area (4 binary columns, 0 = absence or 1 = presence) - Wilderness area designation\n- Soil_Type (40 binary columns, 0 = absence or 1 = presence) - Soil Type designation\n- Cover_Type (7 types, integers 1 to 7) - Forest Cover Type designation\n\nThe wilderness areas are:\n\n1. Rawah Wilderness Area\n2. Neota Wilderness Area\n3. Comanche Peak Wilderness Area\n4. Cache la Poudre Wilderness Area\n\nThe 40 soil types can be found in the data section. "
    },
    {
      "metadata": {
        "_uuid": "8f2839f25d086af736a60e9eeb907d3b93b6e0e5",
        "_cell_guid": "b1076dfc-b9ad-4769-8c92-a6c4dae69d19",
        "trusted": true
      },
      "cell_type": "code",
      "source": "# This Python 3 environment comes with many helpful analytics libraries installed\n# It is defined by the kaggle/python docker image: https://github.com/kaggle/docker-python\n# For example, here's several helpful packages to load in \n\nimport numpy as np # linear algebra\nimport pandas as pd # data processing, CSV file I/O (e.g. pd.read_csv)\n\n# Input data files are available in the \"../input/\" directory.\n# For example, running this (by clicking run or pressing Shift+Enter) will list the files in the input directory\n\nimport os\nprint(os.listdir(\"../input\"))\n\n# Any results you write to the current directory are saved as output.",
      "execution_count": 1,
      "outputs": [
        {
          "output_type": "stream",
          "text": "['train.csv', 'sample_submission.csv', 'test.csv']\n",
          "name": "stdout"
        }
      ]
    },
    {
      "metadata": {
        "trusted": true,
        "_uuid": "e340730793279e3917f1554158b281b051e62b0b"
      },
      "cell_type": "code",
      "source": "train = pd.read_csv(\"../input/train.csv\")\n# Holdout for 'test' to avoid confusing when splitting training data into train/test\nholdout = pd.read_csv(\"../input/test.csv\") \n\ntrain.head()",
      "execution_count": 2,
      "outputs": [
        {
          "output_type": "execute_result",
          "execution_count": 2,
          "data": {
            "text/plain": "   Id  Elevation  Aspect     ...      Soil_Type39  Soil_Type40  Cover_Type\n0   1       2596      51     ...                0            0           5\n1   2       2590      56     ...                0            0           5\n2   3       2804     139     ...                0            0           2\n3   4       2785     155     ...                0            0           2\n4   5       2595      45     ...                0            0           5\n\n[5 rows x 56 columns]",
            "text/html": "<div>\n<style scoped>\n    .dataframe tbody tr th:only-of-type {\n        vertical-align: middle;\n    }\n\n    .dataframe tbody tr th {\n        vertical-align: top;\n    }\n\n    .dataframe thead th {\n        text-align: right;\n    }\n</style>\n<table border=\"1\" class=\"dataframe\">\n  <thead>\n    <tr style=\"text-align: right;\">\n      <th></th>\n      <th>Id</th>\n      <th>Elevation</th>\n      <th>Aspect</th>\n      <th>Slope</th>\n      <th>Horizontal_Distance_To_Hydrology</th>\n      <th>Vertical_Distance_To_Hydrology</th>\n      <th>Horizontal_Distance_To_Roadways</th>\n      <th>Hillshade_9am</th>\n      <th>Hillshade_Noon</th>\n      <th>Hillshade_3pm</th>\n      <th>Horizontal_Distance_To_Fire_Points</th>\n      <th>Wilderness_Area1</th>\n      <th>Wilderness_Area2</th>\n      <th>Wilderness_Area3</th>\n      <th>Wilderness_Area4</th>\n      <th>Soil_Type1</th>\n      <th>Soil_Type2</th>\n      <th>Soil_Type3</th>\n      <th>Soil_Type4</th>\n      <th>Soil_Type5</th>\n      <th>Soil_Type6</th>\n      <th>Soil_Type7</th>\n      <th>Soil_Type8</th>\n      <th>Soil_Type9</th>\n      <th>Soil_Type10</th>\n      <th>Soil_Type11</th>\n      <th>Soil_Type12</th>\n      <th>Soil_Type13</th>\n      <th>Soil_Type14</th>\n      <th>Soil_Type15</th>\n      <th>Soil_Type16</th>\n      <th>Soil_Type17</th>\n      <th>Soil_Type18</th>\n      <th>Soil_Type19</th>\n      <th>Soil_Type20</th>\n      <th>Soil_Type21</th>\n      <th>Soil_Type22</th>\n      <th>Soil_Type23</th>\n      <th>Soil_Type24</th>\n      <th>Soil_Type25</th>\n      <th>Soil_Type26</th>\n      <th>Soil_Type27</th>\n      <th>Soil_Type28</th>\n      <th>Soil_Type29</th>\n      <th>Soil_Type30</th>\n      <th>Soil_Type31</th>\n      <th>Soil_Type32</th>\n      <th>Soil_Type33</th>\n      <th>Soil_Type34</th>\n      <th>Soil_Type35</th>\n      <th>Soil_Type36</th>\n      <th>Soil_Type37</th>\n      <th>Soil_Type38</th>\n      <th>Soil_Type39</th>\n      <th>Soil_Type40</th>\n      <th>Cover_Type</th>\n    </tr>\n  </thead>\n  <tbody>\n    <tr>\n      <th>0</th>\n      <td>1</td>\n      <td>2596</td>\n      <td>51</td>\n      <td>3</td>\n      <td>258</td>\n      <td>0</td>\n      <td>510</td>\n      <td>221</td>\n      <td>232</td>\n      <td>148</td>\n      <td>6279</td>\n      <td>1</td>\n      <td>0</td>\n      <td>0</td>\n      <td>0</td>\n      <td>0</td>\n      <td>0</td>\n      <td>0</td>\n      <td>0</td>\n      <td>0</td>\n      <td>0</td>\n      <td>0</td>\n      <td>0</td>\n      <td>0</td>\n      <td>0</td>\n      <td>0</td>\n      <td>0</td>\n      <td>0</td>\n      <td>0</td>\n      <td>0</td>\n      <td>0</td>\n      <td>0</td>\n      <td>0</td>\n      <td>0</td>\n      <td>0</td>\n      <td>0</td>\n      <td>0</td>\n      <td>0</td>\n      <td>0</td>\n      <td>0</td>\n      <td>0</td>\n      <td>0</td>\n      <td>0</td>\n      <td>1</td>\n      <td>0</td>\n      <td>0</td>\n      <td>0</td>\n      <td>0</td>\n      <td>0</td>\n      <td>0</td>\n      <td>0</td>\n      <td>0</td>\n      <td>0</td>\n      <td>0</td>\n      <td>0</td>\n      <td>5</td>\n    </tr>\n    <tr>\n      <th>1</th>\n      <td>2</td>\n      <td>2590</td>\n      <td>56</td>\n      <td>2</td>\n      <td>212</td>\n      <td>-6</td>\n      <td>390</td>\n      <td>220</td>\n      <td>235</td>\n      <td>151</td>\n      <td>6225</td>\n      <td>1</td>\n      <td>0</td>\n      <td>0</td>\n      <td>0</td>\n      <td>0</td>\n      <td>0</td>\n      <td>0</td>\n      <td>0</td>\n      <td>0</td>\n      <td>0</td>\n      <td>0</td>\n      <td>0</td>\n      <td>0</td>\n      <td>0</td>\n      <td>0</td>\n      <td>0</td>\n      <td>0</td>\n      <td>0</td>\n      <td>0</td>\n      <td>0</td>\n      <td>0</td>\n      <td>0</td>\n      <td>0</td>\n      <td>0</td>\n      <td>0</td>\n      <td>0</td>\n      <td>0</td>\n      <td>0</td>\n      <td>0</td>\n      <td>0</td>\n      <td>0</td>\n      <td>0</td>\n      <td>1</td>\n      <td>0</td>\n      <td>0</td>\n      <td>0</td>\n      <td>0</td>\n      <td>0</td>\n      <td>0</td>\n      <td>0</td>\n      <td>0</td>\n      <td>0</td>\n      <td>0</td>\n      <td>0</td>\n      <td>5</td>\n    </tr>\n    <tr>\n      <th>2</th>\n      <td>3</td>\n      <td>2804</td>\n      <td>139</td>\n      <td>9</td>\n      <td>268</td>\n      <td>65</td>\n      <td>3180</td>\n      <td>234</td>\n      <td>238</td>\n      <td>135</td>\n      <td>6121</td>\n      <td>1</td>\n      <td>0</td>\n      <td>0</td>\n      <td>0</td>\n      <td>0</td>\n      <td>0</td>\n      <td>0</td>\n      <td>0</td>\n      <td>0</td>\n      <td>0</td>\n      <td>0</td>\n      <td>0</td>\n      <td>0</td>\n      <td>0</td>\n      <td>0</td>\n      <td>1</td>\n      <td>0</td>\n      <td>0</td>\n      <td>0</td>\n      <td>0</td>\n      <td>0</td>\n      <td>0</td>\n      <td>0</td>\n      <td>0</td>\n      <td>0</td>\n      <td>0</td>\n      <td>0</td>\n      <td>0</td>\n      <td>0</td>\n      <td>0</td>\n      <td>0</td>\n      <td>0</td>\n      <td>0</td>\n      <td>0</td>\n      <td>0</td>\n      <td>0</td>\n      <td>0</td>\n      <td>0</td>\n      <td>0</td>\n      <td>0</td>\n      <td>0</td>\n      <td>0</td>\n      <td>0</td>\n      <td>0</td>\n      <td>2</td>\n    </tr>\n    <tr>\n      <th>3</th>\n      <td>4</td>\n      <td>2785</td>\n      <td>155</td>\n      <td>18</td>\n      <td>242</td>\n      <td>118</td>\n      <td>3090</td>\n      <td>238</td>\n      <td>238</td>\n      <td>122</td>\n      <td>6211</td>\n      <td>1</td>\n      <td>0</td>\n      <td>0</td>\n      <td>0</td>\n      <td>0</td>\n      <td>0</td>\n      <td>0</td>\n      <td>0</td>\n      <td>0</td>\n      <td>0</td>\n      <td>0</td>\n      <td>0</td>\n      <td>0</td>\n      <td>0</td>\n      <td>0</td>\n      <td>0</td>\n      <td>0</td>\n      <td>0</td>\n      <td>0</td>\n      <td>0</td>\n      <td>0</td>\n      <td>0</td>\n      <td>0</td>\n      <td>0</td>\n      <td>0</td>\n      <td>0</td>\n      <td>0</td>\n      <td>0</td>\n      <td>0</td>\n      <td>0</td>\n      <td>0</td>\n      <td>0</td>\n      <td>0</td>\n      <td>1</td>\n      <td>0</td>\n      <td>0</td>\n      <td>0</td>\n      <td>0</td>\n      <td>0</td>\n      <td>0</td>\n      <td>0</td>\n      <td>0</td>\n      <td>0</td>\n      <td>0</td>\n      <td>2</td>\n    </tr>\n    <tr>\n      <th>4</th>\n      <td>5</td>\n      <td>2595</td>\n      <td>45</td>\n      <td>2</td>\n      <td>153</td>\n      <td>-1</td>\n      <td>391</td>\n      <td>220</td>\n      <td>234</td>\n      <td>150</td>\n      <td>6172</td>\n      <td>1</td>\n      <td>0</td>\n      <td>0</td>\n      <td>0</td>\n      <td>0</td>\n      <td>0</td>\n      <td>0</td>\n      <td>0</td>\n      <td>0</td>\n      <td>0</td>\n      <td>0</td>\n      <td>0</td>\n      <td>0</td>\n      <td>0</td>\n      <td>0</td>\n      <td>0</td>\n      <td>0</td>\n      <td>0</td>\n      <td>0</td>\n      <td>0</td>\n      <td>0</td>\n      <td>0</td>\n      <td>0</td>\n      <td>0</td>\n      <td>0</td>\n      <td>0</td>\n      <td>0</td>\n      <td>0</td>\n      <td>0</td>\n      <td>0</td>\n      <td>0</td>\n      <td>0</td>\n      <td>1</td>\n      <td>0</td>\n      <td>0</td>\n      <td>0</td>\n      <td>0</td>\n      <td>0</td>\n      <td>0</td>\n      <td>0</td>\n      <td>0</td>\n      <td>0</td>\n      <td>0</td>\n      <td>0</td>\n      <td>5</td>\n    </tr>\n  </tbody>\n</table>\n</div>"
          },
          "metadata": {}
        }
      ]
    },
    {
      "metadata": {
        "trusted": true,
        "_uuid": "5afe3f450e8266a281f6d0cd864eeb913f1b6916"
      },
      "cell_type": "code",
      "source": "train.info()",
      "execution_count": 3,
      "outputs": [
        {
          "output_type": "stream",
          "text": "<class 'pandas.core.frame.DataFrame'>\nRangeIndex: 15120 entries, 0 to 15119\nData columns (total 56 columns):\nId                                    15120 non-null int64\nElevation                             15120 non-null int64\nAspect                                15120 non-null int64\nSlope                                 15120 non-null int64\nHorizontal_Distance_To_Hydrology      15120 non-null int64\nVertical_Distance_To_Hydrology        15120 non-null int64\nHorizontal_Distance_To_Roadways       15120 non-null int64\nHillshade_9am                         15120 non-null int64\nHillshade_Noon                        15120 non-null int64\nHillshade_3pm                         15120 non-null int64\nHorizontal_Distance_To_Fire_Points    15120 non-null int64\nWilderness_Area1                      15120 non-null int64\nWilderness_Area2                      15120 non-null int64\nWilderness_Area3                      15120 non-null int64\nWilderness_Area4                      15120 non-null int64\nSoil_Type1                            15120 non-null int64\nSoil_Type2                            15120 non-null int64\nSoil_Type3                            15120 non-null int64\nSoil_Type4                            15120 non-null int64\nSoil_Type5                            15120 non-null int64\nSoil_Type6                            15120 non-null int64\nSoil_Type7                            15120 non-null int64\nSoil_Type8                            15120 non-null int64\nSoil_Type9                            15120 non-null int64\nSoil_Type10                           15120 non-null int64\nSoil_Type11                           15120 non-null int64\nSoil_Type12                           15120 non-null int64\nSoil_Type13                           15120 non-null int64\nSoil_Type14                           15120 non-null int64\nSoil_Type15                           15120 non-null int64\nSoil_Type16                           15120 non-null int64\nSoil_Type17                           15120 non-null int64\nSoil_Type18                           15120 non-null int64\nSoil_Type19                           15120 non-null int64\nSoil_Type20                           15120 non-null int64\nSoil_Type21                           15120 non-null int64\nSoil_Type22                           15120 non-null int64\nSoil_Type23                           15120 non-null int64\nSoil_Type24                           15120 non-null int64\nSoil_Type25                           15120 non-null int64\nSoil_Type26                           15120 non-null int64\nSoil_Type27                           15120 non-null int64\nSoil_Type28                           15120 non-null int64\nSoil_Type29                           15120 non-null int64\nSoil_Type30                           15120 non-null int64\nSoil_Type31                           15120 non-null int64\nSoil_Type32                           15120 non-null int64\nSoil_Type33                           15120 non-null int64\nSoil_Type34                           15120 non-null int64\nSoil_Type35                           15120 non-null int64\nSoil_Type36                           15120 non-null int64\nSoil_Type37                           15120 non-null int64\nSoil_Type38                           15120 non-null int64\nSoil_Type39                           15120 non-null int64\nSoil_Type40                           15120 non-null int64\nCover_Type                            15120 non-null int64\ndtypes: int64(56)\nmemory usage: 6.5 MB\n",
          "name": "stdout"
        }
      ]
    },
    {
      "metadata": {
        "_cell_guid": "79c7e3d0-c299-4dcb-8224-4455121ee9b0",
        "_uuid": "d629ff2d2480ee46fbb7e2d37f6b5fab8052498a",
        "trusted": true
      },
      "cell_type": "code",
      "source": "train.describe()",
      "execution_count": 4,
      "outputs": [
        {
          "output_type": "execute_result",
          "execution_count": 4,
          "data": {
            "text/plain": "                Id     Elevation      ...        Soil_Type40    Cover_Type\ncount  15120.00000  15120.000000      ...       15120.000000  15120.000000\nmean    7560.50000   2749.322553      ...           0.030357      4.000000\nstd     4364.91237    417.678187      ...           0.171574      2.000066\nmin        1.00000   1863.000000      ...           0.000000      1.000000\n25%     3780.75000   2376.000000      ...           0.000000      2.000000\n50%     7560.50000   2752.000000      ...           0.000000      4.000000\n75%    11340.25000   3104.000000      ...           0.000000      6.000000\nmax    15120.00000   3849.000000      ...           1.000000      7.000000\n\n[8 rows x 56 columns]",
            "text/html": "<div>\n<style scoped>\n    .dataframe tbody tr th:only-of-type {\n        vertical-align: middle;\n    }\n\n    .dataframe tbody tr th {\n        vertical-align: top;\n    }\n\n    .dataframe thead th {\n        text-align: right;\n    }\n</style>\n<table border=\"1\" class=\"dataframe\">\n  <thead>\n    <tr style=\"text-align: right;\">\n      <th></th>\n      <th>Id</th>\n      <th>Elevation</th>\n      <th>Aspect</th>\n      <th>Slope</th>\n      <th>Horizontal_Distance_To_Hydrology</th>\n      <th>Vertical_Distance_To_Hydrology</th>\n      <th>Horizontal_Distance_To_Roadways</th>\n      <th>Hillshade_9am</th>\n      <th>Hillshade_Noon</th>\n      <th>Hillshade_3pm</th>\n      <th>Horizontal_Distance_To_Fire_Points</th>\n      <th>Wilderness_Area1</th>\n      <th>Wilderness_Area2</th>\n      <th>Wilderness_Area3</th>\n      <th>Wilderness_Area4</th>\n      <th>Soil_Type1</th>\n      <th>Soil_Type2</th>\n      <th>Soil_Type3</th>\n      <th>Soil_Type4</th>\n      <th>Soil_Type5</th>\n      <th>Soil_Type6</th>\n      <th>Soil_Type7</th>\n      <th>Soil_Type8</th>\n      <th>Soil_Type9</th>\n      <th>Soil_Type10</th>\n      <th>Soil_Type11</th>\n      <th>Soil_Type12</th>\n      <th>Soil_Type13</th>\n      <th>Soil_Type14</th>\n      <th>Soil_Type15</th>\n      <th>Soil_Type16</th>\n      <th>Soil_Type17</th>\n      <th>Soil_Type18</th>\n      <th>Soil_Type19</th>\n      <th>Soil_Type20</th>\n      <th>Soil_Type21</th>\n      <th>Soil_Type22</th>\n      <th>Soil_Type23</th>\n      <th>Soil_Type24</th>\n      <th>Soil_Type25</th>\n      <th>Soil_Type26</th>\n      <th>Soil_Type27</th>\n      <th>Soil_Type28</th>\n      <th>Soil_Type29</th>\n      <th>Soil_Type30</th>\n      <th>Soil_Type31</th>\n      <th>Soil_Type32</th>\n      <th>Soil_Type33</th>\n      <th>Soil_Type34</th>\n      <th>Soil_Type35</th>\n      <th>Soil_Type36</th>\n      <th>Soil_Type37</th>\n      <th>Soil_Type38</th>\n      <th>Soil_Type39</th>\n      <th>Soil_Type40</th>\n      <th>Cover_Type</th>\n    </tr>\n  </thead>\n  <tbody>\n    <tr>\n      <th>count</th>\n      <td>15120.00000</td>\n      <td>15120.000000</td>\n      <td>15120.000000</td>\n      <td>15120.000000</td>\n      <td>15120.000000</td>\n      <td>15120.000000</td>\n      <td>15120.000000</td>\n      <td>15120.000000</td>\n      <td>15120.000000</td>\n      <td>15120.000000</td>\n      <td>15120.000000</td>\n      <td>15120.000000</td>\n      <td>15120.000000</td>\n      <td>15120.000000</td>\n      <td>15120.000000</td>\n      <td>15120.000000</td>\n      <td>15120.000000</td>\n      <td>15120.000000</td>\n      <td>15120.000000</td>\n      <td>15120.000000</td>\n      <td>15120.000000</td>\n      <td>15120.0</td>\n      <td>15120.000000</td>\n      <td>15120.000000</td>\n      <td>15120.000000</td>\n      <td>15120.000000</td>\n      <td>15120.000000</td>\n      <td>15120.000000</td>\n      <td>15120.000000</td>\n      <td>15120.0</td>\n      <td>15120.000000</td>\n      <td>15120.000000</td>\n      <td>15120.000000</td>\n      <td>15120.000000</td>\n      <td>15120.000000</td>\n      <td>15120.000000</td>\n      <td>15120.000000</td>\n      <td>15120.000000</td>\n      <td>15120.000000</td>\n      <td>15120.000000</td>\n      <td>15120.000000</td>\n      <td>15120.000000</td>\n      <td>15120.000000</td>\n      <td>15120.000000</td>\n      <td>15120.000000</td>\n      <td>15120.000000</td>\n      <td>15120.000000</td>\n      <td>15120.000000</td>\n      <td>15120.000000</td>\n      <td>15120.000000</td>\n      <td>15120.000000</td>\n      <td>15120.000000</td>\n      <td>15120.000000</td>\n      <td>15120.000000</td>\n      <td>15120.000000</td>\n      <td>15120.000000</td>\n    </tr>\n    <tr>\n      <th>mean</th>\n      <td>7560.50000</td>\n      <td>2749.322553</td>\n      <td>156.676653</td>\n      <td>16.501587</td>\n      <td>227.195701</td>\n      <td>51.076521</td>\n      <td>1714.023214</td>\n      <td>212.704299</td>\n      <td>218.965608</td>\n      <td>135.091997</td>\n      <td>1511.147288</td>\n      <td>0.237897</td>\n      <td>0.033003</td>\n      <td>0.419907</td>\n      <td>0.309193</td>\n      <td>0.023479</td>\n      <td>0.041204</td>\n      <td>0.063624</td>\n      <td>0.055754</td>\n      <td>0.010913</td>\n      <td>0.042989</td>\n      <td>0.0</td>\n      <td>0.000066</td>\n      <td>0.000661</td>\n      <td>0.141667</td>\n      <td>0.026852</td>\n      <td>0.015013</td>\n      <td>0.031481</td>\n      <td>0.011177</td>\n      <td>0.0</td>\n      <td>0.007540</td>\n      <td>0.040476</td>\n      <td>0.003968</td>\n      <td>0.003042</td>\n      <td>0.009193</td>\n      <td>0.001058</td>\n      <td>0.022817</td>\n      <td>0.050066</td>\n      <td>0.016997</td>\n      <td>0.000066</td>\n      <td>0.003571</td>\n      <td>0.000992</td>\n      <td>0.000595</td>\n      <td>0.085384</td>\n      <td>0.047950</td>\n      <td>0.021958</td>\n      <td>0.045635</td>\n      <td>0.040741</td>\n      <td>0.001455</td>\n      <td>0.006746</td>\n      <td>0.000661</td>\n      <td>0.002249</td>\n      <td>0.048148</td>\n      <td>0.043452</td>\n      <td>0.030357</td>\n      <td>4.000000</td>\n    </tr>\n    <tr>\n      <th>std</th>\n      <td>4364.91237</td>\n      <td>417.678187</td>\n      <td>110.085801</td>\n      <td>8.453927</td>\n      <td>210.075296</td>\n      <td>61.239406</td>\n      <td>1325.066358</td>\n      <td>30.561287</td>\n      <td>22.801966</td>\n      <td>45.895189</td>\n      <td>1099.936493</td>\n      <td>0.425810</td>\n      <td>0.178649</td>\n      <td>0.493560</td>\n      <td>0.462176</td>\n      <td>0.151424</td>\n      <td>0.198768</td>\n      <td>0.244091</td>\n      <td>0.229454</td>\n      <td>0.103896</td>\n      <td>0.202840</td>\n      <td>0.0</td>\n      <td>0.008133</td>\n      <td>0.025710</td>\n      <td>0.348719</td>\n      <td>0.161656</td>\n      <td>0.121609</td>\n      <td>0.174621</td>\n      <td>0.105133</td>\n      <td>0.0</td>\n      <td>0.086506</td>\n      <td>0.197080</td>\n      <td>0.062871</td>\n      <td>0.055075</td>\n      <td>0.095442</td>\n      <td>0.032514</td>\n      <td>0.149326</td>\n      <td>0.218089</td>\n      <td>0.129265</td>\n      <td>0.008133</td>\n      <td>0.059657</td>\n      <td>0.031482</td>\n      <td>0.024391</td>\n      <td>0.279461</td>\n      <td>0.213667</td>\n      <td>0.146550</td>\n      <td>0.208699</td>\n      <td>0.197696</td>\n      <td>0.038118</td>\n      <td>0.081859</td>\n      <td>0.025710</td>\n      <td>0.047368</td>\n      <td>0.214086</td>\n      <td>0.203880</td>\n      <td>0.171574</td>\n      <td>2.000066</td>\n    </tr>\n    <tr>\n      <th>min</th>\n      <td>1.00000</td>\n      <td>1863.000000</td>\n      <td>0.000000</td>\n      <td>0.000000</td>\n      <td>0.000000</td>\n      <td>-146.000000</td>\n      <td>0.000000</td>\n      <td>0.000000</td>\n      <td>99.000000</td>\n      <td>0.000000</td>\n      <td>0.000000</td>\n      <td>0.000000</td>\n      <td>0.000000</td>\n      <td>0.000000</td>\n      <td>0.000000</td>\n      <td>0.000000</td>\n      <td>0.000000</td>\n      <td>0.000000</td>\n      <td>0.000000</td>\n      <td>0.000000</td>\n      <td>0.000000</td>\n      <td>0.0</td>\n      <td>0.000000</td>\n      <td>0.000000</td>\n      <td>0.000000</td>\n      <td>0.000000</td>\n      <td>0.000000</td>\n      <td>0.000000</td>\n      <td>0.000000</td>\n      <td>0.0</td>\n      <td>0.000000</td>\n      <td>0.000000</td>\n      <td>0.000000</td>\n      <td>0.000000</td>\n      <td>0.000000</td>\n      <td>0.000000</td>\n      <td>0.000000</td>\n      <td>0.000000</td>\n      <td>0.000000</td>\n      <td>0.000000</td>\n      <td>0.000000</td>\n      <td>0.000000</td>\n      <td>0.000000</td>\n      <td>0.000000</td>\n      <td>0.000000</td>\n      <td>0.000000</td>\n      <td>0.000000</td>\n      <td>0.000000</td>\n      <td>0.000000</td>\n      <td>0.000000</td>\n      <td>0.000000</td>\n      <td>0.000000</td>\n      <td>0.000000</td>\n      <td>0.000000</td>\n      <td>0.000000</td>\n      <td>1.000000</td>\n    </tr>\n    <tr>\n      <th>25%</th>\n      <td>3780.75000</td>\n      <td>2376.000000</td>\n      <td>65.000000</td>\n      <td>10.000000</td>\n      <td>67.000000</td>\n      <td>5.000000</td>\n      <td>764.000000</td>\n      <td>196.000000</td>\n      <td>207.000000</td>\n      <td>106.000000</td>\n      <td>730.000000</td>\n      <td>0.000000</td>\n      <td>0.000000</td>\n      <td>0.000000</td>\n      <td>0.000000</td>\n      <td>0.000000</td>\n      <td>0.000000</td>\n      <td>0.000000</td>\n      <td>0.000000</td>\n      <td>0.000000</td>\n      <td>0.000000</td>\n      <td>0.0</td>\n      <td>0.000000</td>\n      <td>0.000000</td>\n      <td>0.000000</td>\n      <td>0.000000</td>\n      <td>0.000000</td>\n      <td>0.000000</td>\n      <td>0.000000</td>\n      <td>0.0</td>\n      <td>0.000000</td>\n      <td>0.000000</td>\n      <td>0.000000</td>\n      <td>0.000000</td>\n      <td>0.000000</td>\n      <td>0.000000</td>\n      <td>0.000000</td>\n      <td>0.000000</td>\n      <td>0.000000</td>\n      <td>0.000000</td>\n      <td>0.000000</td>\n      <td>0.000000</td>\n      <td>0.000000</td>\n      <td>0.000000</td>\n      <td>0.000000</td>\n      <td>0.000000</td>\n      <td>0.000000</td>\n      <td>0.000000</td>\n      <td>0.000000</td>\n      <td>0.000000</td>\n      <td>0.000000</td>\n      <td>0.000000</td>\n      <td>0.000000</td>\n      <td>0.000000</td>\n      <td>0.000000</td>\n      <td>2.000000</td>\n    </tr>\n    <tr>\n      <th>50%</th>\n      <td>7560.50000</td>\n      <td>2752.000000</td>\n      <td>126.000000</td>\n      <td>15.000000</td>\n      <td>180.000000</td>\n      <td>32.000000</td>\n      <td>1316.000000</td>\n      <td>220.000000</td>\n      <td>223.000000</td>\n      <td>138.000000</td>\n      <td>1256.000000</td>\n      <td>0.000000</td>\n      <td>0.000000</td>\n      <td>0.000000</td>\n      <td>0.000000</td>\n      <td>0.000000</td>\n      <td>0.000000</td>\n      <td>0.000000</td>\n      <td>0.000000</td>\n      <td>0.000000</td>\n      <td>0.000000</td>\n      <td>0.0</td>\n      <td>0.000000</td>\n      <td>0.000000</td>\n      <td>0.000000</td>\n      <td>0.000000</td>\n      <td>0.000000</td>\n      <td>0.000000</td>\n      <td>0.000000</td>\n      <td>0.0</td>\n      <td>0.000000</td>\n      <td>0.000000</td>\n      <td>0.000000</td>\n      <td>0.000000</td>\n      <td>0.000000</td>\n      <td>0.000000</td>\n      <td>0.000000</td>\n      <td>0.000000</td>\n      <td>0.000000</td>\n      <td>0.000000</td>\n      <td>0.000000</td>\n      <td>0.000000</td>\n      <td>0.000000</td>\n      <td>0.000000</td>\n      <td>0.000000</td>\n      <td>0.000000</td>\n      <td>0.000000</td>\n      <td>0.000000</td>\n      <td>0.000000</td>\n      <td>0.000000</td>\n      <td>0.000000</td>\n      <td>0.000000</td>\n      <td>0.000000</td>\n      <td>0.000000</td>\n      <td>0.000000</td>\n      <td>4.000000</td>\n    </tr>\n    <tr>\n      <th>75%</th>\n      <td>11340.25000</td>\n      <td>3104.000000</td>\n      <td>261.000000</td>\n      <td>22.000000</td>\n      <td>330.000000</td>\n      <td>79.000000</td>\n      <td>2270.000000</td>\n      <td>235.000000</td>\n      <td>235.000000</td>\n      <td>167.000000</td>\n      <td>1988.250000</td>\n      <td>0.000000</td>\n      <td>0.000000</td>\n      <td>1.000000</td>\n      <td>1.000000</td>\n      <td>0.000000</td>\n      <td>0.000000</td>\n      <td>0.000000</td>\n      <td>0.000000</td>\n      <td>0.000000</td>\n      <td>0.000000</td>\n      <td>0.0</td>\n      <td>0.000000</td>\n      <td>0.000000</td>\n      <td>0.000000</td>\n      <td>0.000000</td>\n      <td>0.000000</td>\n      <td>0.000000</td>\n      <td>0.000000</td>\n      <td>0.0</td>\n      <td>0.000000</td>\n      <td>0.000000</td>\n      <td>0.000000</td>\n      <td>0.000000</td>\n      <td>0.000000</td>\n      <td>0.000000</td>\n      <td>0.000000</td>\n      <td>0.000000</td>\n      <td>0.000000</td>\n      <td>0.000000</td>\n      <td>0.000000</td>\n      <td>0.000000</td>\n      <td>0.000000</td>\n      <td>0.000000</td>\n      <td>0.000000</td>\n      <td>0.000000</td>\n      <td>0.000000</td>\n      <td>0.000000</td>\n      <td>0.000000</td>\n      <td>0.000000</td>\n      <td>0.000000</td>\n      <td>0.000000</td>\n      <td>0.000000</td>\n      <td>0.000000</td>\n      <td>0.000000</td>\n      <td>6.000000</td>\n    </tr>\n    <tr>\n      <th>max</th>\n      <td>15120.00000</td>\n      <td>3849.000000</td>\n      <td>360.000000</td>\n      <td>52.000000</td>\n      <td>1343.000000</td>\n      <td>554.000000</td>\n      <td>6890.000000</td>\n      <td>254.000000</td>\n      <td>254.000000</td>\n      <td>248.000000</td>\n      <td>6993.000000</td>\n      <td>1.000000</td>\n      <td>1.000000</td>\n      <td>1.000000</td>\n      <td>1.000000</td>\n      <td>1.000000</td>\n      <td>1.000000</td>\n      <td>1.000000</td>\n      <td>1.000000</td>\n      <td>1.000000</td>\n      <td>1.000000</td>\n      <td>0.0</td>\n      <td>1.000000</td>\n      <td>1.000000</td>\n      <td>1.000000</td>\n      <td>1.000000</td>\n      <td>1.000000</td>\n      <td>1.000000</td>\n      <td>1.000000</td>\n      <td>0.0</td>\n      <td>1.000000</td>\n      <td>1.000000</td>\n      <td>1.000000</td>\n      <td>1.000000</td>\n      <td>1.000000</td>\n      <td>1.000000</td>\n      <td>1.000000</td>\n      <td>1.000000</td>\n      <td>1.000000</td>\n      <td>1.000000</td>\n      <td>1.000000</td>\n      <td>1.000000</td>\n      <td>1.000000</td>\n      <td>1.000000</td>\n      <td>1.000000</td>\n      <td>1.000000</td>\n      <td>1.000000</td>\n      <td>1.000000</td>\n      <td>1.000000</td>\n      <td>1.000000</td>\n      <td>1.000000</td>\n      <td>1.000000</td>\n      <td>1.000000</td>\n      <td>1.000000</td>\n      <td>1.000000</td>\n      <td>7.000000</td>\n    </tr>\n  </tbody>\n</table>\n</div>"
          },
          "metadata": {}
        }
      ]
    },
    {
      "metadata": {
        "_uuid": "b7043b8eba89ca393be3be132573df948e760d86"
      },
      "cell_type": "markdown",
      "source": "A first look at the data shows that there are no missing values, and that all our columns are numerical (integer).  We have a total of 15,120 observations in our train dataframe, and 56 columns, out of which 40 are dedicated to soil types.\n\n"
    },
    {
      "metadata": {
        "_uuid": "8de4dc1e647de87d3d018912ecaa4ba50faaa5b3"
      },
      "cell_type": "markdown",
      "source": "## EDA\nLet's take a closer look at the different features we have available.\nWe'll start with the target variable (Cover_Type): \n- equally distributed in the data set?\n- order? \n- Is there any transformation that needs to happen?\n\nThen the features:\n- Can we already spot relationships between specific features and the target?\n- Is there any transformation that needs to happen?\n"
    },
    {
      "metadata": {
        "trusted": true,
        "_uuid": "7ab618f743a4196e6578402460d51e66dc9561d3"
      },
      "cell_type": "code",
      "source": "import seaborn as sns\nimport matplotlib as plt",
      "execution_count": null,
      "outputs": []
    },
    {
      "metadata": {
        "trusted": true,
        "_uuid": "c9c538158bca98ed3f41476b00f855e4a4d0ee81"
      },
      "cell_type": "code",
      "source": "train[\"Cover_Type\"].value_counts()",
      "execution_count": null,
      "outputs": []
    },
    {
      "metadata": {
        "trusted": true,
        "_uuid": "14b546e2a4a9c65263b6fa027f6b4546243b9e76"
      },
      "cell_type": "code",
      "source": "train.plot(\"Id\", \"Cover_Type\")",
      "execution_count": null,
      "outputs": []
    },
    {
      "metadata": {
        "_uuid": "3c01b369a92179d9593b3b4e5daf505ecc0ea952"
      },
      "cell_type": "markdown",
      "source": "### Elevation "
    },
    {
      "metadata": {
        "trusted": true,
        "_uuid": "c3e41f5cff3595a2a536c35de36a75be52d2c37b"
      },
      "cell_type": "code",
      "source": "ax = sns.boxplot(x='Cover_Type', y='Elevation', data=train)",
      "execution_count": null,
      "outputs": []
    },
    {
      "metadata": {
        "trusted": true,
        "_uuid": "41266e1bf2c30b054cfe7117555f439c57c4e5b0"
      },
      "cell_type": "code",
      "source": "ax = sns.boxplot(x='Cover_Type', y='Aspect', data=train)",
      "execution_count": null,
      "outputs": []
    },
    {
      "metadata": {
        "trusted": true,
        "_uuid": "c5e0c2f22cacb1eafd9cbda661e7bd5e79ef5ce9"
      },
      "cell_type": "code",
      "source": "ax = sns.plot(x='Cover_Type', y='Slope', data=train)",
      "execution_count": null,
      "outputs": []
    },
    {
      "metadata": {
        "trusted": true,
        "_uuid": "14ed6b53400edbd4c658e48a1f15ee3727c611e2"
      },
      "cell_type": "markdown",
      "source": "* The 7 cover types are equally distributed in our data set. As a result, we won't need to correct inbalance. \n* A clear relationship appears between elevation and cover type. "
    },
    {
      "metadata": {
        "_uuid": "63df89895bb908f1e816d2b54376cd0be49f9828"
      },
      "cell_type": "markdown",
      "source": "To do:\n- Cover type as ordered numbers (7>6) while they actually represent categories. We'll need to do something about it\n> When we convert a column to the categorical data type, pandas assigns a number from 0 to n-1 (where n is the number of unique values in a column) for each value. The drawback with this approach is that one of the assumptions of linear regression is violated here. Linear regression operates under the assumption that the features are linearly correlated with the target column. For a categorical feature, however, there's no actual numerical meaning to the categorical codes that pandas assigned for that column. An increase in the Utilities column from 1 to 2 has no correlation value with the target column, and the categorical codes are instead used for uniqueness and exclusivity (the category associated with 0 is different than the one associated with 1).\n> The common solution is to use a technique called dummy coding. Instead of having a single column with n integer codes, we have n binary columns. \n*dummy_cols = pd.get_dummies()\ndummy_cols = pd.DataFrame()\nfor col in text_cols:\n     (Transform col)\n    col_dummies = pd.get_dummies(train[col])\n   (Add dummy columns to train df, delete the original text col from train df)\n    train = pd.concat([train, col_dummies], axis=1)\n    del train[col]*\n\n- In case there's an order in the data, we'll need to mix it up to ensure we don't give our algorithm more clues than it should have (random_order = np.random.permutation(len(df)) // df = df.loc[random_order]).\n\nNext steps\n## Engineering New Features\n## Selecting the Best-Performing Features\n## Selecting and Tuning Different Algorithms\n## Conclusion\n"
    },
    {
      "metadata": {
        "trusted": true,
        "_uuid": "ccfa0fb442090c2f4848f9c47db242d8dafb6175"
      },
      "cell_type": "code",
      "source": "def save_submission_file(model, cols, filename=\"submission.csv\"):\n    holdout_predictions = model.predict(holdout[cols])\n    holdout_ids = holdout[\"Id\"]\n    \n    submission_df = {\"Id\": holdout_ids,\n                    \"Cover_Type\": holdout_predictions}\n    submission = pd.DataFrame(submission_df)\n    submission.to_csv(filename, index=False)\n    \n\n#best_rf_model = best_model[2][\"best_model\"]\n#save_submission_file(best_rf_model,best_columns)",
      "execution_count": null,
      "outputs": []
    }
  ],
  "metadata": {
    "kernelspec": {
      "display_name": "Python 3",
      "language": "python",
      "name": "python3"
    },
    "language_info": {
      "name": "python",
      "version": "3.6.6",
      "mimetype": "text/x-python",
      "codemirror_mode": {
        "name": "ipython",
        "version": 3
      },
      "pygments_lexer": "ipython3",
      "nbconvert_exporter": "python",
      "file_extension": ".py"
    }
  },
  "nbformat": 4,
  "nbformat_minor": 1
}