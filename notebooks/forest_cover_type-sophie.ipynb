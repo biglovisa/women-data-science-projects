{
 "cells": [
  {
   "cell_type": "markdown",
   "metadata": {
    "_uuid": "9cc0660c475ab1bf289ad74bd269b7372cf34688"
   },
   "source": [
    "# Forest Cover Type\n",
    "\n",
    "The goal of this project is to predict the correct forest cover type (defined as an integer between 1 and 7), out of 7 possibilities:\n",
    "\n",
    "1. Spruce/Fir\n",
    "2. Lodgepole Pine\n",
    "3. Ponderosa Pine\n",
    "4. Cottonwood/Willow\n",
    "5. Aspen\n",
    "6. Douglas-fir\n",
    "7. Krummholz\n",
    "\n",
    "The predictions are evaluated using multi-class classification accuracy.\n",
    "\n",
    "This study area includes four wilderness areas located in the Roosevelt National Forest of northern Colorado. \n",
    "\n",
    "The features are:\n",
    "- Elevation - Elevation in meters\n",
    "- Aspect - Aspect in degrees azimuth\n",
    "- Slope - Slope in degrees\n",
    "- Horizontal_Distance_To_Hydrology - Horz Dist to nearest surface water features\n",
    "- Vertical_Distance_To_Hydrology - Vert Dist to nearest surface water features\n",
    "- Horizontal_Distance_To_Roadways - Horz Dist to nearest roadway\n",
    "- Hillshade_9am (0 to 255 index) - Hillshade index at 9am, summer solstice\n",
    "- Hillshade_Noon (0 to 255 index) - Hillshade index at noon, summer solstice\n",
    "- Hillshade_3pm (0 to 255 index) - Hillshade index at 3pm, summer solstice\n",
    "- Horizontal_Distance_To_Fire_Points - Horz Dist to nearest wildfire ignition points\n",
    "- Wilderness_Area (4 binary columns, 0 = absence or 1 = presence) - Wilderness area designation\n",
    "- Soil_Type (40 binary columns, 0 = absence or 1 = presence) - Soil Type designation\n",
    "- Cover_Type (7 types, integers 1 to 7) - Forest Cover Type designation\n",
    "\n",
    "The wilderness areas are:\n",
    "\n",
    "1. Rawah Wilderness Area\n",
    "2. Neota Wilderness Area\n",
    "3. Comanche Peak Wilderness Area\n",
    "4. Cache la Poudre Wilderness Area\n",
    "\n",
    "The 40 soil types can be found in the data section. "
   ]
  },
  {
   "cell_type": "code",
   "execution_count": 1,
   "metadata": {
    "_cell_guid": "b1076dfc-b9ad-4769-8c92-a6c4dae69d19",
    "_uuid": "8f2839f25d086af736a60e9eeb907d3b93b6e0e5"
   },
   "outputs": [],
   "source": [
    "# This Python 3 environment comes with many helpful analytics libraries installed\n",
    "# It is defined by the kaggle/python docker image: https://github.com/kaggle/docker-python\n",
    "# For example, here's several helpful packages to load in \n",
    "\n",
    "import numpy as np # linear algebra\n",
    "import pandas as pd # data processing, CSV file I/O (e.g. pd.read_csv)\n",
    "\n",
    "# Input data files are available in the \"../input/\" directory.\n",
    "# For example, running this (by clicking run or pressing Shift+Enter) will list the files in the input directory\n",
    "\n",
    "#import os\n",
    "#print(os.listdir(\"../input\"))\n",
    "\n",
    "# Any results you write to the current directory are saved as output."
   ]
  },
  {
   "cell_type": "code",
   "execution_count": 23,
   "metadata": {
    "_uuid": "e340730793279e3917f1554158b281b051e62b0b"
   },
   "outputs": [
    {
     "data": {
      "text/html": [
       "<div>\n",
       "<style scoped>\n",
       "    .dataframe tbody tr th:only-of-type {\n",
       "        vertical-align: middle;\n",
       "    }\n",
       "\n",
       "    .dataframe tbody tr th {\n",
       "        vertical-align: top;\n",
       "    }\n",
       "\n",
       "    .dataframe thead th {\n",
       "        text-align: right;\n",
       "    }\n",
       "</style>\n",
       "<table border=\"1\" class=\"dataframe\">\n",
       "  <thead>\n",
       "    <tr style=\"text-align: right;\">\n",
       "      <th></th>\n",
       "      <th>Id</th>\n",
       "      <th>Elevation</th>\n",
       "      <th>Aspect</th>\n",
       "      <th>Slope</th>\n",
       "      <th>Horizontal_Distance_To_Hydrology</th>\n",
       "      <th>Vertical_Distance_To_Hydrology</th>\n",
       "      <th>Horizontal_Distance_To_Roadways</th>\n",
       "      <th>Hillshade_9am</th>\n",
       "      <th>Hillshade_Noon</th>\n",
       "      <th>Hillshade_3pm</th>\n",
       "      <th>...</th>\n",
       "      <th>Soil_Type32</th>\n",
       "      <th>Soil_Type33</th>\n",
       "      <th>Soil_Type34</th>\n",
       "      <th>Soil_Type35</th>\n",
       "      <th>Soil_Type36</th>\n",
       "      <th>Soil_Type37</th>\n",
       "      <th>Soil_Type38</th>\n",
       "      <th>Soil_Type39</th>\n",
       "      <th>Soil_Type40</th>\n",
       "      <th>Cover_Type</th>\n",
       "    </tr>\n",
       "  </thead>\n",
       "  <tbody>\n",
       "    <tr>\n",
       "      <th>0</th>\n",
       "      <td>1</td>\n",
       "      <td>2596</td>\n",
       "      <td>51</td>\n",
       "      <td>3</td>\n",
       "      <td>258</td>\n",
       "      <td>0</td>\n",
       "      <td>510</td>\n",
       "      <td>221</td>\n",
       "      <td>232</td>\n",
       "      <td>148</td>\n",
       "      <td>...</td>\n",
       "      <td>0</td>\n",
       "      <td>0</td>\n",
       "      <td>0</td>\n",
       "      <td>0</td>\n",
       "      <td>0</td>\n",
       "      <td>0</td>\n",
       "      <td>0</td>\n",
       "      <td>0</td>\n",
       "      <td>0</td>\n",
       "      <td>5</td>\n",
       "    </tr>\n",
       "    <tr>\n",
       "      <th>1</th>\n",
       "      <td>2</td>\n",
       "      <td>2590</td>\n",
       "      <td>56</td>\n",
       "      <td>2</td>\n",
       "      <td>212</td>\n",
       "      <td>-6</td>\n",
       "      <td>390</td>\n",
       "      <td>220</td>\n",
       "      <td>235</td>\n",
       "      <td>151</td>\n",
       "      <td>...</td>\n",
       "      <td>0</td>\n",
       "      <td>0</td>\n",
       "      <td>0</td>\n",
       "      <td>0</td>\n",
       "      <td>0</td>\n",
       "      <td>0</td>\n",
       "      <td>0</td>\n",
       "      <td>0</td>\n",
       "      <td>0</td>\n",
       "      <td>5</td>\n",
       "    </tr>\n",
       "    <tr>\n",
       "      <th>2</th>\n",
       "      <td>3</td>\n",
       "      <td>2804</td>\n",
       "      <td>139</td>\n",
       "      <td>9</td>\n",
       "      <td>268</td>\n",
       "      <td>65</td>\n",
       "      <td>3180</td>\n",
       "      <td>234</td>\n",
       "      <td>238</td>\n",
       "      <td>135</td>\n",
       "      <td>...</td>\n",
       "      <td>0</td>\n",
       "      <td>0</td>\n",
       "      <td>0</td>\n",
       "      <td>0</td>\n",
       "      <td>0</td>\n",
       "      <td>0</td>\n",
       "      <td>0</td>\n",
       "      <td>0</td>\n",
       "      <td>0</td>\n",
       "      <td>2</td>\n",
       "    </tr>\n",
       "    <tr>\n",
       "      <th>3</th>\n",
       "      <td>4</td>\n",
       "      <td>2785</td>\n",
       "      <td>155</td>\n",
       "      <td>18</td>\n",
       "      <td>242</td>\n",
       "      <td>118</td>\n",
       "      <td>3090</td>\n",
       "      <td>238</td>\n",
       "      <td>238</td>\n",
       "      <td>122</td>\n",
       "      <td>...</td>\n",
       "      <td>0</td>\n",
       "      <td>0</td>\n",
       "      <td>0</td>\n",
       "      <td>0</td>\n",
       "      <td>0</td>\n",
       "      <td>0</td>\n",
       "      <td>0</td>\n",
       "      <td>0</td>\n",
       "      <td>0</td>\n",
       "      <td>2</td>\n",
       "    </tr>\n",
       "    <tr>\n",
       "      <th>4</th>\n",
       "      <td>5</td>\n",
       "      <td>2595</td>\n",
       "      <td>45</td>\n",
       "      <td>2</td>\n",
       "      <td>153</td>\n",
       "      <td>-1</td>\n",
       "      <td>391</td>\n",
       "      <td>220</td>\n",
       "      <td>234</td>\n",
       "      <td>150</td>\n",
       "      <td>...</td>\n",
       "      <td>0</td>\n",
       "      <td>0</td>\n",
       "      <td>0</td>\n",
       "      <td>0</td>\n",
       "      <td>0</td>\n",
       "      <td>0</td>\n",
       "      <td>0</td>\n",
       "      <td>0</td>\n",
       "      <td>0</td>\n",
       "      <td>5</td>\n",
       "    </tr>\n",
       "  </tbody>\n",
       "</table>\n",
       "<p>5 rows × 56 columns</p>\n",
       "</div>"
      ],
      "text/plain": [
       "   Id  Elevation  Aspect  Slope  Horizontal_Distance_To_Hydrology  \\\n",
       "0   1       2596      51      3                               258   \n",
       "1   2       2590      56      2                               212   \n",
       "2   3       2804     139      9                               268   \n",
       "3   4       2785     155     18                               242   \n",
       "4   5       2595      45      2                               153   \n",
       "\n",
       "   Vertical_Distance_To_Hydrology  Horizontal_Distance_To_Roadways  \\\n",
       "0                               0                              510   \n",
       "1                              -6                              390   \n",
       "2                              65                             3180   \n",
       "3                             118                             3090   \n",
       "4                              -1                              391   \n",
       "\n",
       "   Hillshade_9am  Hillshade_Noon  Hillshade_3pm     ...      Soil_Type32  \\\n",
       "0            221             232            148     ...                0   \n",
       "1            220             235            151     ...                0   \n",
       "2            234             238            135     ...                0   \n",
       "3            238             238            122     ...                0   \n",
       "4            220             234            150     ...                0   \n",
       "\n",
       "   Soil_Type33  Soil_Type34  Soil_Type35  Soil_Type36  Soil_Type37  \\\n",
       "0            0            0            0            0            0   \n",
       "1            0            0            0            0            0   \n",
       "2            0            0            0            0            0   \n",
       "3            0            0            0            0            0   \n",
       "4            0            0            0            0            0   \n",
       "\n",
       "   Soil_Type38  Soil_Type39  Soil_Type40  Cover_Type  \n",
       "0            0            0            0           5  \n",
       "1            0            0            0           5  \n",
       "2            0            0            0           2  \n",
       "3            0            0            0           2  \n",
       "4            0            0            0           5  \n",
       "\n",
       "[5 rows x 56 columns]"
      ]
     },
     "execution_count": 23,
     "metadata": {},
     "output_type": "execute_result"
    }
   ],
   "source": [
    "local_path = \"./data/\"\n",
    "kaggle_path = \"../input/\"\n",
    "\n",
    "train = pd.read_csv(local_path+\"train.csv\")\n",
    "# Holdout for 'test' to avoid confusing when splitting training data into train/test\n",
    "holdout = pd.read_csv(local_path+\"test.csv\") \n",
    "\n",
    "train.head()"
   ]
  },
  {
   "cell_type": "code",
   "execution_count": 4,
   "metadata": {
    "_uuid": "5afe3f450e8266a281f6d0cd864eeb913f1b6916"
   },
   "outputs": [
    {
     "name": "stdout",
     "output_type": "stream",
     "text": [
      "<class 'pandas.core.frame.DataFrame'>\n",
      "Int64Index: 15120 entries, 4274 to 7135\n",
      "Data columns (total 55 columns):\n",
      "Elevation                             15120 non-null int64\n",
      "Aspect                                15120 non-null int64\n",
      "Slope                                 15120 non-null int64\n",
      "Horizontal_Distance_To_Hydrology      15120 non-null int64\n",
      "Vertical_Distance_To_Hydrology        15120 non-null int64\n",
      "Horizontal_Distance_To_Roadways       15120 non-null int64\n",
      "Hillshade_9am                         15120 non-null int64\n",
      "Hillshade_Noon                        15120 non-null int64\n",
      "Hillshade_3pm                         15120 non-null int64\n",
      "Horizontal_Distance_To_Fire_Points    15120 non-null int64\n",
      "Wilderness_Area1                      15120 non-null int64\n",
      "Wilderness_Area2                      15120 non-null int64\n",
      "Wilderness_Area3                      15120 non-null int64\n",
      "Wilderness_Area4                      15120 non-null int64\n",
      "Soil_Type1                            15120 non-null int64\n",
      "Soil_Type2                            15120 non-null int64\n",
      "Soil_Type3                            15120 non-null int64\n",
      "Soil_Type4                            15120 non-null int64\n",
      "Soil_Type5                            15120 non-null int64\n",
      "Soil_Type6                            15120 non-null int64\n",
      "Soil_Type7                            15120 non-null int64\n",
      "Soil_Type8                            15120 non-null int64\n",
      "Soil_Type9                            15120 non-null int64\n",
      "Soil_Type10                           15120 non-null int64\n",
      "Soil_Type11                           15120 non-null int64\n",
      "Soil_Type12                           15120 non-null int64\n",
      "Soil_Type13                           15120 non-null int64\n",
      "Soil_Type14                           15120 non-null int64\n",
      "Soil_Type15                           15120 non-null int64\n",
      "Soil_Type16                           15120 non-null int64\n",
      "Soil_Type17                           15120 non-null int64\n",
      "Soil_Type18                           15120 non-null int64\n",
      "Soil_Type19                           15120 non-null int64\n",
      "Soil_Type20                           15120 non-null int64\n",
      "Soil_Type21                           15120 non-null int64\n",
      "Soil_Type22                           15120 non-null int64\n",
      "Soil_Type23                           15120 non-null int64\n",
      "Soil_Type24                           15120 non-null int64\n",
      "Soil_Type25                           15120 non-null int64\n",
      "Soil_Type26                           15120 non-null int64\n",
      "Soil_Type27                           15120 non-null int64\n",
      "Soil_Type28                           15120 non-null int64\n",
      "Soil_Type29                           15120 non-null int64\n",
      "Soil_Type30                           15120 non-null int64\n",
      "Soil_Type31                           15120 non-null int64\n",
      "Soil_Type32                           15120 non-null int64\n",
      "Soil_Type33                           15120 non-null int64\n",
      "Soil_Type34                           15120 non-null int64\n",
      "Soil_Type35                           15120 non-null int64\n",
      "Soil_Type36                           15120 non-null int64\n",
      "Soil_Type37                           15120 non-null int64\n",
      "Soil_Type38                           15120 non-null int64\n",
      "Soil_Type39                           15120 non-null int64\n",
      "Soil_Type40                           15120 non-null int64\n",
      "Cover_Type                            15120 non-null int64\n",
      "dtypes: int64(55)\n",
      "memory usage: 6.5 MB\n"
     ]
    }
   ],
   "source": [
    "# Get info on data type and missing values\n",
    "train.info()"
   ]
  },
  {
   "cell_type": "code",
   "execution_count": 5,
   "metadata": {
    "_cell_guid": "79c7e3d0-c299-4dcb-8224-4455121ee9b0",
    "_uuid": "d629ff2d2480ee46fbb7e2d37f6b5fab8052498a"
   },
   "outputs": [
    {
     "data": {
      "text/html": [
       "<div>\n",
       "<style scoped>\n",
       "    .dataframe tbody tr th:only-of-type {\n",
       "        vertical-align: middle;\n",
       "    }\n",
       "\n",
       "    .dataframe tbody tr th {\n",
       "        vertical-align: top;\n",
       "    }\n",
       "\n",
       "    .dataframe thead th {\n",
       "        text-align: right;\n",
       "    }\n",
       "</style>\n",
       "<table border=\"1\" class=\"dataframe\">\n",
       "  <thead>\n",
       "    <tr style=\"text-align: right;\">\n",
       "      <th></th>\n",
       "      <th>Elevation</th>\n",
       "      <th>Aspect</th>\n",
       "      <th>Slope</th>\n",
       "      <th>Horizontal_Distance_To_Hydrology</th>\n",
       "      <th>Vertical_Distance_To_Hydrology</th>\n",
       "      <th>Horizontal_Distance_To_Roadways</th>\n",
       "      <th>Hillshade_9am</th>\n",
       "      <th>Hillshade_Noon</th>\n",
       "      <th>Hillshade_3pm</th>\n",
       "      <th>Horizontal_Distance_To_Fire_Points</th>\n",
       "      <th>...</th>\n",
       "      <th>Soil_Type32</th>\n",
       "      <th>Soil_Type33</th>\n",
       "      <th>Soil_Type34</th>\n",
       "      <th>Soil_Type35</th>\n",
       "      <th>Soil_Type36</th>\n",
       "      <th>Soil_Type37</th>\n",
       "      <th>Soil_Type38</th>\n",
       "      <th>Soil_Type39</th>\n",
       "      <th>Soil_Type40</th>\n",
       "      <th>Cover_Type</th>\n",
       "    </tr>\n",
       "  </thead>\n",
       "  <tbody>\n",
       "    <tr>\n",
       "      <th>count</th>\n",
       "      <td>15120.000000</td>\n",
       "      <td>15120.000000</td>\n",
       "      <td>15120.000000</td>\n",
       "      <td>15120.000000</td>\n",
       "      <td>15120.000000</td>\n",
       "      <td>15120.000000</td>\n",
       "      <td>15120.000000</td>\n",
       "      <td>15120.000000</td>\n",
       "      <td>15120.000000</td>\n",
       "      <td>15120.000000</td>\n",
       "      <td>...</td>\n",
       "      <td>15120.000000</td>\n",
       "      <td>15120.000000</td>\n",
       "      <td>15120.000000</td>\n",
       "      <td>15120.000000</td>\n",
       "      <td>15120.000000</td>\n",
       "      <td>15120.000000</td>\n",
       "      <td>15120.000000</td>\n",
       "      <td>15120.000000</td>\n",
       "      <td>15120.000000</td>\n",
       "      <td>15120.000000</td>\n",
       "    </tr>\n",
       "    <tr>\n",
       "      <th>mean</th>\n",
       "      <td>2749.322553</td>\n",
       "      <td>156.676653</td>\n",
       "      <td>16.501587</td>\n",
       "      <td>227.195701</td>\n",
       "      <td>51.076521</td>\n",
       "      <td>1714.023214</td>\n",
       "      <td>212.704299</td>\n",
       "      <td>218.965608</td>\n",
       "      <td>135.091997</td>\n",
       "      <td>1511.147288</td>\n",
       "      <td>...</td>\n",
       "      <td>0.045635</td>\n",
       "      <td>0.040741</td>\n",
       "      <td>0.001455</td>\n",
       "      <td>0.006746</td>\n",
       "      <td>0.000661</td>\n",
       "      <td>0.002249</td>\n",
       "      <td>0.048148</td>\n",
       "      <td>0.043452</td>\n",
       "      <td>0.030357</td>\n",
       "      <td>4.000000</td>\n",
       "    </tr>\n",
       "    <tr>\n",
       "      <th>std</th>\n",
       "      <td>417.678187</td>\n",
       "      <td>110.085801</td>\n",
       "      <td>8.453927</td>\n",
       "      <td>210.075296</td>\n",
       "      <td>61.239406</td>\n",
       "      <td>1325.066358</td>\n",
       "      <td>30.561287</td>\n",
       "      <td>22.801966</td>\n",
       "      <td>45.895189</td>\n",
       "      <td>1099.936493</td>\n",
       "      <td>...</td>\n",
       "      <td>0.208699</td>\n",
       "      <td>0.197696</td>\n",
       "      <td>0.038118</td>\n",
       "      <td>0.081859</td>\n",
       "      <td>0.025710</td>\n",
       "      <td>0.047368</td>\n",
       "      <td>0.214086</td>\n",
       "      <td>0.203880</td>\n",
       "      <td>0.171574</td>\n",
       "      <td>2.000066</td>\n",
       "    </tr>\n",
       "    <tr>\n",
       "      <th>min</th>\n",
       "      <td>1863.000000</td>\n",
       "      <td>0.000000</td>\n",
       "      <td>0.000000</td>\n",
       "      <td>0.000000</td>\n",
       "      <td>-146.000000</td>\n",
       "      <td>0.000000</td>\n",
       "      <td>0.000000</td>\n",
       "      <td>99.000000</td>\n",
       "      <td>0.000000</td>\n",
       "      <td>0.000000</td>\n",
       "      <td>...</td>\n",
       "      <td>0.000000</td>\n",
       "      <td>0.000000</td>\n",
       "      <td>0.000000</td>\n",
       "      <td>0.000000</td>\n",
       "      <td>0.000000</td>\n",
       "      <td>0.000000</td>\n",
       "      <td>0.000000</td>\n",
       "      <td>0.000000</td>\n",
       "      <td>0.000000</td>\n",
       "      <td>1.000000</td>\n",
       "    </tr>\n",
       "    <tr>\n",
       "      <th>25%</th>\n",
       "      <td>2376.000000</td>\n",
       "      <td>65.000000</td>\n",
       "      <td>10.000000</td>\n",
       "      <td>67.000000</td>\n",
       "      <td>5.000000</td>\n",
       "      <td>764.000000</td>\n",
       "      <td>196.000000</td>\n",
       "      <td>207.000000</td>\n",
       "      <td>106.000000</td>\n",
       "      <td>730.000000</td>\n",
       "      <td>...</td>\n",
       "      <td>0.000000</td>\n",
       "      <td>0.000000</td>\n",
       "      <td>0.000000</td>\n",
       "      <td>0.000000</td>\n",
       "      <td>0.000000</td>\n",
       "      <td>0.000000</td>\n",
       "      <td>0.000000</td>\n",
       "      <td>0.000000</td>\n",
       "      <td>0.000000</td>\n",
       "      <td>2.000000</td>\n",
       "    </tr>\n",
       "    <tr>\n",
       "      <th>50%</th>\n",
       "      <td>2752.000000</td>\n",
       "      <td>126.000000</td>\n",
       "      <td>15.000000</td>\n",
       "      <td>180.000000</td>\n",
       "      <td>32.000000</td>\n",
       "      <td>1316.000000</td>\n",
       "      <td>220.000000</td>\n",
       "      <td>223.000000</td>\n",
       "      <td>138.000000</td>\n",
       "      <td>1256.000000</td>\n",
       "      <td>...</td>\n",
       "      <td>0.000000</td>\n",
       "      <td>0.000000</td>\n",
       "      <td>0.000000</td>\n",
       "      <td>0.000000</td>\n",
       "      <td>0.000000</td>\n",
       "      <td>0.000000</td>\n",
       "      <td>0.000000</td>\n",
       "      <td>0.000000</td>\n",
       "      <td>0.000000</td>\n",
       "      <td>4.000000</td>\n",
       "    </tr>\n",
       "    <tr>\n",
       "      <th>75%</th>\n",
       "      <td>3104.000000</td>\n",
       "      <td>261.000000</td>\n",
       "      <td>22.000000</td>\n",
       "      <td>330.000000</td>\n",
       "      <td>79.000000</td>\n",
       "      <td>2270.000000</td>\n",
       "      <td>235.000000</td>\n",
       "      <td>235.000000</td>\n",
       "      <td>167.000000</td>\n",
       "      <td>1988.250000</td>\n",
       "      <td>...</td>\n",
       "      <td>0.000000</td>\n",
       "      <td>0.000000</td>\n",
       "      <td>0.000000</td>\n",
       "      <td>0.000000</td>\n",
       "      <td>0.000000</td>\n",
       "      <td>0.000000</td>\n",
       "      <td>0.000000</td>\n",
       "      <td>0.000000</td>\n",
       "      <td>0.000000</td>\n",
       "      <td>6.000000</td>\n",
       "    </tr>\n",
       "    <tr>\n",
       "      <th>max</th>\n",
       "      <td>3849.000000</td>\n",
       "      <td>360.000000</td>\n",
       "      <td>52.000000</td>\n",
       "      <td>1343.000000</td>\n",
       "      <td>554.000000</td>\n",
       "      <td>6890.000000</td>\n",
       "      <td>254.000000</td>\n",
       "      <td>254.000000</td>\n",
       "      <td>248.000000</td>\n",
       "      <td>6993.000000</td>\n",
       "      <td>...</td>\n",
       "      <td>1.000000</td>\n",
       "      <td>1.000000</td>\n",
       "      <td>1.000000</td>\n",
       "      <td>1.000000</td>\n",
       "      <td>1.000000</td>\n",
       "      <td>1.000000</td>\n",
       "      <td>1.000000</td>\n",
       "      <td>1.000000</td>\n",
       "      <td>1.000000</td>\n",
       "      <td>7.000000</td>\n",
       "    </tr>\n",
       "  </tbody>\n",
       "</table>\n",
       "<p>8 rows × 55 columns</p>\n",
       "</div>"
      ],
      "text/plain": [
       "          Elevation        Aspect         Slope  \\\n",
       "count  15120.000000  15120.000000  15120.000000   \n",
       "mean    2749.322553    156.676653     16.501587   \n",
       "std      417.678187    110.085801      8.453927   \n",
       "min     1863.000000      0.000000      0.000000   \n",
       "25%     2376.000000     65.000000     10.000000   \n",
       "50%     2752.000000    126.000000     15.000000   \n",
       "75%     3104.000000    261.000000     22.000000   \n",
       "max     3849.000000    360.000000     52.000000   \n",
       "\n",
       "       Horizontal_Distance_To_Hydrology  Vertical_Distance_To_Hydrology  \\\n",
       "count                      15120.000000                    15120.000000   \n",
       "mean                         227.195701                       51.076521   \n",
       "std                          210.075296                       61.239406   \n",
       "min                            0.000000                     -146.000000   \n",
       "25%                           67.000000                        5.000000   \n",
       "50%                          180.000000                       32.000000   \n",
       "75%                          330.000000                       79.000000   \n",
       "max                         1343.000000                      554.000000   \n",
       "\n",
       "       Horizontal_Distance_To_Roadways  Hillshade_9am  Hillshade_Noon  \\\n",
       "count                     15120.000000   15120.000000    15120.000000   \n",
       "mean                       1714.023214     212.704299      218.965608   \n",
       "std                        1325.066358      30.561287       22.801966   \n",
       "min                           0.000000       0.000000       99.000000   \n",
       "25%                         764.000000     196.000000      207.000000   \n",
       "50%                        1316.000000     220.000000      223.000000   \n",
       "75%                        2270.000000     235.000000      235.000000   \n",
       "max                        6890.000000     254.000000      254.000000   \n",
       "\n",
       "       Hillshade_3pm  Horizontal_Distance_To_Fire_Points      ...       \\\n",
       "count   15120.000000                        15120.000000      ...        \n",
       "mean      135.091997                         1511.147288      ...        \n",
       "std        45.895189                         1099.936493      ...        \n",
       "min         0.000000                            0.000000      ...        \n",
       "25%       106.000000                          730.000000      ...        \n",
       "50%       138.000000                         1256.000000      ...        \n",
       "75%       167.000000                         1988.250000      ...        \n",
       "max       248.000000                         6993.000000      ...        \n",
       "\n",
       "        Soil_Type32   Soil_Type33   Soil_Type34   Soil_Type35   Soil_Type36  \\\n",
       "count  15120.000000  15120.000000  15120.000000  15120.000000  15120.000000   \n",
       "mean       0.045635      0.040741      0.001455      0.006746      0.000661   \n",
       "std        0.208699      0.197696      0.038118      0.081859      0.025710   \n",
       "min        0.000000      0.000000      0.000000      0.000000      0.000000   \n",
       "25%        0.000000      0.000000      0.000000      0.000000      0.000000   \n",
       "50%        0.000000      0.000000      0.000000      0.000000      0.000000   \n",
       "75%        0.000000      0.000000      0.000000      0.000000      0.000000   \n",
       "max        1.000000      1.000000      1.000000      1.000000      1.000000   \n",
       "\n",
       "        Soil_Type37   Soil_Type38   Soil_Type39   Soil_Type40    Cover_Type  \n",
       "count  15120.000000  15120.000000  15120.000000  15120.000000  15120.000000  \n",
       "mean       0.002249      0.048148      0.043452      0.030357      4.000000  \n",
       "std        0.047368      0.214086      0.203880      0.171574      2.000066  \n",
       "min        0.000000      0.000000      0.000000      0.000000      1.000000  \n",
       "25%        0.000000      0.000000      0.000000      0.000000      2.000000  \n",
       "50%        0.000000      0.000000      0.000000      0.000000      4.000000  \n",
       "75%        0.000000      0.000000      0.000000      0.000000      6.000000  \n",
       "max        1.000000      1.000000      1.000000      1.000000      7.000000  \n",
       "\n",
       "[8 rows x 55 columns]"
      ]
     },
     "execution_count": 5,
     "metadata": {},
     "output_type": "execute_result"
    }
   ],
   "source": [
    "# All columns are numerical. Let's take a closer look:\n",
    "train.describe()"
   ]
  },
  {
   "cell_type": "markdown",
   "metadata": {
    "_uuid": "b7043b8eba89ca393be3be132573df948e760d86"
   },
   "source": [
    "A first look at the data shows:\n",
    "\n",
    "- there are no missing values, \n",
    "- all our columns are numerical (integer),\n",
    "- there are 15,120 observations in our train dataframe, and 56 columns (out of which 40 are dedicated to soil types),\n",
    "- the categorical explanatory variables are all already dummy coded. "
   ]
  },
  {
   "cell_type": "markdown",
   "metadata": {
    "_uuid": "8de4dc1e647de87d3d018912ecaa4ba50faaa5b3"
   },
   "source": [
    "## EDA\n",
    "Let's take a closer look at the different features we have available.\n",
    "\n",
    "We'll start with the target variable:\n",
    "- is it equally distributed in the data set?\n",
    "- is there an order to it? \n",
    "- is there any transformation that needs to happen?\n",
    "\n",
    "Then the features:\n",
    "- Can we find relationships between specific features and the target?"
   ]
  },
  {
   "cell_type": "code",
   "execution_count": 6,
   "metadata": {
    "_uuid": "7ab618f743a4196e6578402460d51e66dc9561d3"
   },
   "outputs": [],
   "source": [
    "import seaborn as sns\n",
    "import matplotlib.pyplot as plt\n",
    "%matplotlib inline"
   ]
  },
  {
   "cell_type": "code",
   "execution_count": 8,
   "metadata": {
    "_uuid": "c9c538158bca98ed3f41476b00f855e4a4d0ee81"
   },
   "outputs": [
    {
     "data": {
      "text/plain": [
       "7    2160\n",
       "6    2160\n",
       "5    2160\n",
       "4    2160\n",
       "3    2160\n",
       "2    2160\n",
       "1    2160\n",
       "Name: Cover_Type, dtype: int64"
      ]
     },
     "execution_count": 8,
     "metadata": {},
     "output_type": "execute_result"
    }
   ],
   "source": [
    "train[\"Cover_Type\"].value_counts()"
   ]
  },
  {
   "cell_type": "code",
   "execution_count": 24,
   "metadata": {},
   "outputs": [
    {
     "data": {
      "text/plain": [
       "<matplotlib.collections.PathCollection at 0x1187fbd68>"
      ]
     },
     "execution_count": 24,
     "metadata": {},
     "output_type": "execute_result"
    },
    {
     "data": {
      "image/png": "[encoded data removed]",
      "text/plain": [
       "<Figure size 432x288 with 1 Axes>"
      ]
     },
     "metadata": {},
     "output_type": "display_data"
    }
   ],
   "source": [
    "plt.scatter(train[\"Id\"],train[\"Cover_Type\"])"
   ]
  },
  {
   "cell_type": "code",
   "execution_count": 25,
   "metadata": {},
   "outputs": [],
   "source": [
    "# Drop the Id column from the train dataframe as it's leaking info.\n",
    "train = train.drop(\"Id\", axis=1)\n",
    "\n",
    "# Shuffle the order of the dataframe as there seems to be an order to it. \n",
    "random_order = np.random.permutation(len(train))\n",
    "train = train.loc[random_order]"
   ]
  },
  {
   "cell_type": "markdown",
   "metadata": {
    "_uuid": "3c01b369a92179d9593b3b4e5daf505ecc0ea952"
   },
   "source": [
    "### Explanatory Variables"
   ]
  },
  {
   "cell_type": "code",
   "execution_count": 26,
   "metadata": {},
   "outputs": [],
   "source": [
    "# Splitting train into different sub dataframe with similar features\n",
    "train_elassl = pd.concat([train.iloc[:,0:3],train.iloc[:, -1]], axis=1)\n",
    "train_distance = pd.concat([train.iloc[:,3:6],train.iloc[:,9],train.iloc[:, -1]], axis=1)\n",
    "train_hillshade = pd.concat([train.iloc[:,6:9],train.iloc[:, -1]], axis=1)\n",
    "train_wilderness = pd.concat([train.iloc[:,10:14],train.iloc[:, -1]], axis=1)"
   ]
  },
  {
   "cell_type": "code",
   "execution_count": 27,
   "metadata": {},
   "outputs": [
    {
     "data": {
      "image/png": "[encoded data removed]",
      "text/plain": [
       "<Figure size 2160x720 with 3 Axes>"
      ]
     },
     "metadata": {},
     "output_type": "display_data"
    }
   ],
   "source": [
    "fig = plt.figure(figsize=(30,10))\n",
    "for i, col in enumerate(train_elassl.columns[:-1]):  \n",
    "    ax = fig.add_subplot(int(\"13\"+str(i+1)))\n",
    "    sns.boxplot(x='Cover_Type', y=col, data=train)\n",
    "fig.suptitle('Elevation, Aspect & Slope vs. Cover Type', fontsize =25)\n",
    "plt.show()"
   ]
  },
  {
   "cell_type": "code",
   "execution_count": 28,
   "metadata": {},
   "outputs": [
    {
     "data": {
      "image/png": "[encoded data removed]",
      "text/plain": [
       "<Figure size 2880x720 with 4 Axes>"
      ]
     },
     "metadata": {},
     "output_type": "display_data"
    }
   ],
   "source": [
    "fig = plt.figure(figsize=(40,10))\n",
    "for i, col in enumerate(train_distance.columns[:-1]):  \n",
    "    ax = fig.add_subplot(int(\"14\"+str(i+1)))\n",
    "    sns.boxplot(x='Cover_Type', y=col, data=train)\n",
    "fig.suptitle('Distance vs. Cover Type', fontsize =25)\n",
    "\n",
    "plt.show()"
   ]
  },
  {
   "cell_type": "code",
   "execution_count": 29,
   "metadata": {},
   "outputs": [
    {
     "data": {
      "image/png": "[encoded data removed]",
      "text/plain": [
       "<Figure size 2160x576 with 3 Axes>"
      ]
     },
     "metadata": {},
     "output_type": "display_data"
    }
   ],
   "source": [
    "fig = plt.figure(figsize=(30,8))\n",
    "for i, col in enumerate(train_hillshade.columns[:-1]):  \n",
    "    ax = fig.add_subplot(int(\"13\"+str(i+1)))\n",
    "    sns.boxplot(x='Cover_Type', y=col, data=train)\n",
    "fig.suptitle('Hillshade vs. Cover Type', fontsize =25)\n",
    "plt.show()"
   ]
  },
  {
   "cell_type": "code",
   "execution_count": 30,
   "metadata": {},
   "outputs": [
    {
     "data": {
      "text/plain": [
       "Text(0.5,0.98,'Wilderness Areas vs. Cover Type')"
      ]
     },
     "execution_count": 30,
     "metadata": {},
     "output_type": "execute_result"
    },
    {
     "data": {
      "image/png": "[encoded data removed]",
      "text/plain": [
       "<Figure size 2880x720 with 4 Axes>"
      ]
     },
     "metadata": {},
     "output_type": "display_data"
    }
   ],
   "source": [
    "fig = plt.figure(figsize=(40,10))\n",
    "for i, col in enumerate(train_wilderness.columns[:-1]):  \n",
    "    ax = fig.add_subplot(fig.add_subplot(int(\"14\"+str(i+1))))\n",
    "    sns.boxplot(x='Cover_Type', y=col, data=train)\n",
    "    \n",
    "fig.suptitle('Wilderness Areas vs. Cover Type', fontsize =25)"
   ]
  },
  {
   "cell_type": "markdown",
   "metadata": {},
   "source": [
    "As the Wilderness Areas are already 'dummy coded', boxplots are not such helpful visualizations.\n",
    "Below, we look at value counts to get a better understanding of the cover type per wilderness area.\n",
    "We'll also do the same for the soil types. "
   ]
  },
  {
   "cell_type": "code",
   "execution_count": 127,
   "metadata": {},
   "outputs": [
    {
     "data": {
      "text/plain": [
       "2    1134\n",
       "1    1062\n",
       "5     856\n",
       "7     545\n",
       "Name: Cover_Type, dtype: int64"
      ]
     },
     "execution_count": 127,
     "metadata": {},
     "output_type": "execute_result"
    }
   ],
   "source": [
    "w1 = train[train[\"Wilderness_Area1\"]==1]\n",
    "w1[\"Cover_Type\"].value_counts()"
   ]
  },
  {
   "cell_type": "code",
   "execution_count": 126,
   "metadata": {
    "_uuid": "c5e0c2f22cacb1eafd9cbda661e7bd5e79ef5ce9"
   },
   "outputs": [
    {
     "data": {
      "text/plain": [
       "7    252\n",
       "1    181\n",
       "2     66\n",
       "Name: Cover_Type, dtype: int64"
      ]
     },
     "execution_count": 126,
     "metadata": {},
     "output_type": "execute_result"
    }
   ],
   "source": [
    "w2 = train[train[\"Wilderness_Area2\"]==1]\n",
    "w2[\"Cover_Type\"].value_counts()"
   ]
  },
  {
   "cell_type": "code",
   "execution_count": 125,
   "metadata": {},
   "outputs": [
    {
     "data": {
      "text/plain": [
       "7    1363\n",
       "5    1304\n",
       "6     962\n",
       "2     940\n",
       "1     917\n",
       "3     863\n",
       "Name: Cover_Type, dtype: int64"
      ]
     },
     "execution_count": 125,
     "metadata": {},
     "output_type": "execute_result"
    }
   ],
   "source": [
    "w3 = train[train[\"Wilderness_Area3\"]==1]\n",
    "w3[\"Cover_Type\"].value_counts()"
   ]
  },
  {
   "cell_type": "code",
   "execution_count": 128,
   "metadata": {},
   "outputs": [
    {
     "data": {
      "text/plain": [
       "4    2160\n",
       "3    1297\n",
       "6    1198\n",
       "2      20\n",
       "Name: Cover_Type, dtype: int64"
      ]
     },
     "execution_count": 128,
     "metadata": {},
     "output_type": "execute_result"
    }
   ],
   "source": [
    "w4 = train[train[\"Wilderness_Area4\"]==1]\n",
    "w4[\"Cover_Type\"].value_counts()"
   ]
  },
  {
   "cell_type": "code",
   "execution_count": 132,
   "metadata": {},
   "outputs": [
    {
     "name": "stdout",
     "output_type": "stream",
     "text": [
      "Soil_Type1\n",
      "4    139\n",
      "3    121\n",
      "6     95\n",
      "Name: Cover_Type, dtype: int64\n",
      "Soil_Type2\n",
      "3    283\n",
      "6    182\n",
      "4     94\n",
      "5     61\n",
      "2      3\n",
      "Name: Cover_Type, dtype: int64\n",
      "Soil_Type3\n",
      "4    799\n",
      "3    133\n",
      "6     18\n",
      "2     12\n",
      "Name: Cover_Type, dtype: int64\n",
      "Soil_Type4\n",
      "3    462\n",
      "4    133\n",
      "5    129\n",
      "6     87\n",
      "2     20\n",
      "7      7\n",
      "1      5\n",
      "Name: Cover_Type, dtype: int64\n",
      "Soil_Type5\n",
      "6    71\n",
      "3    55\n",
      "4    39\n",
      "Name: Cover_Type, dtype: int64\n",
      "Soil_Type6\n",
      "3    248\n",
      "4    244\n",
      "6    151\n",
      "2      7\n",
      "Name: Cover_Type, dtype: int64\n",
      "Soil_Type7\n",
      "Series([], Name: Cover_Type, dtype: int64)\n",
      "Soil_Type8\n",
      "2    1\n",
      "Name: Cover_Type, dtype: int64\n",
      "Soil_Type9\n",
      "2    9\n",
      "1    1\n",
      "Name: Cover_Type, dtype: int64\n",
      "Soil_Type10\n",
      "6    1101\n",
      "3     717\n",
      "4     170\n",
      "2      81\n",
      "5      64\n",
      "1       9\n",
      "Name: Cover_Type, dtype: int64\n",
      "Soil_Type11\n",
      "5    154\n",
      "3     89\n",
      "6     67\n",
      "2     67\n",
      "4     24\n",
      "1      5\n",
      "Name: Cover_Type, dtype: int64\n",
      "Soil_Type12\n",
      "2    203\n",
      "1     24\n",
      "Name: Cover_Type, dtype: int64\n",
      "Soil_Type13\n",
      "5    305\n",
      "2     84\n",
      "6     66\n",
      "1     17\n",
      "3      4\n",
      "Name: Cover_Type, dtype: int64\n",
      "Soil_Type14\n",
      "4    128\n",
      "6     37\n",
      "3      4\n",
      "Name: Cover_Type, dtype: int64\n",
      "Soil_Type15\n",
      "Series([], Name: Cover_Type, dtype: int64)\n",
      "Soil_Type16\n",
      "4    40\n",
      "6    37\n",
      "2    14\n",
      "5     9\n",
      "1     9\n",
      "3     5\n",
      "Name: Cover_Type, dtype: int64\n",
      "Soil_Type17\n",
      "4    350\n",
      "5    131\n",
      "6     88\n",
      "3     34\n",
      "2      7\n",
      "1      2\n",
      "Name: Cover_Type, dtype: int64\n",
      "Soil_Type18\n",
      "5    44\n",
      "2    16\n",
      "Name: Cover_Type, dtype: int64\n",
      "Soil_Type19\n",
      "5    18\n",
      "1    15\n",
      "2    13\n",
      "Name: Cover_Type, dtype: int64\n",
      "Soil_Type20\n",
      "2    55\n",
      "1    41\n",
      "6    37\n",
      "5     6\n",
      "Name: Cover_Type, dtype: int64\n",
      "Soil_Type21\n",
      "1    12\n",
      "7     4\n",
      "Name: Cover_Type, dtype: int64\n",
      "Soil_Type22\n",
      "1    275\n",
      "2     54\n",
      "7     16\n",
      "Name: Cover_Type, dtype: int64\n",
      "Soil_Type23\n",
      "1    376\n",
      "5    157\n",
      "2    149\n",
      "7     72\n",
      "6      3\n",
      "Name: Cover_Type, dtype: int64\n",
      "Soil_Type24\n",
      "1    128\n",
      "2     72\n",
      "7     31\n",
      "6     15\n",
      "5     11\n",
      "Name: Cover_Type, dtype: int64\n",
      "Soil_Type25\n",
      "2    1\n",
      "Name: Cover_Type, dtype: int64\n",
      "Soil_Type26\n",
      "5    28\n",
      "2    19\n",
      "1     7\n",
      "Name: Cover_Type, dtype: int64\n",
      "Soil_Type27\n",
      "1    7\n",
      "2    5\n",
      "7    3\n",
      "Name: Cover_Type, dtype: int64\n",
      "Soil_Type28\n",
      "2    6\n",
      "5    3\n",
      "Name: Cover_Type, dtype: int64\n",
      "Soil_Type29\n",
      "2    554\n",
      "1    407\n",
      "5    254\n",
      "7     76\n",
      "Name: Cover_Type, dtype: int64\n",
      "Soil_Type30\n",
      "5    480\n",
      "2    144\n",
      "1     81\n",
      "7     20\n",
      "Name: Cover_Type, dtype: int64\n",
      "Soil_Type31\n",
      "1    114\n",
      "2     97\n",
      "5     87\n",
      "7     27\n",
      "6      7\n",
      "Name: Cover_Type, dtype: int64\n",
      "Soil_Type32\n",
      "2    255\n",
      "1    230\n",
      "5    100\n",
      "7     70\n",
      "6     30\n",
      "3      5\n",
      "Name: Cover_Type, dtype: int64\n",
      "Soil_Type33\n",
      "2    184\n",
      "1    184\n",
      "5    115\n",
      "7     67\n",
      "6     66\n",
      "Name: Cover_Type, dtype: int64\n",
      "Soil_Type34\n",
      "2    12\n",
      "7     4\n",
      "5     4\n",
      "6     2\n",
      "Name: Cover_Type, dtype: int64\n",
      "Soil_Type35\n",
      "7    98\n",
      "1     3\n",
      "2     1\n",
      "Name: Cover_Type, dtype: int64\n",
      "Soil_Type36\n",
      "7    8\n",
      "2    2\n",
      "Name: Cover_Type, dtype: int64\n",
      "Soil_Type37\n",
      "7    34\n",
      "Name: Cover_Type, dtype: int64\n",
      "Soil_Type38\n",
      "7    641\n",
      "1     80\n",
      "2      7\n",
      "Name: Cover_Type, dtype: int64\n",
      "Soil_Type39\n",
      "7    575\n",
      "1     79\n",
      "2      3\n",
      "Name: Cover_Type, dtype: int64\n",
      "Soil_Type40\n",
      "7    407\n",
      "1     49\n",
      "2      3\n",
      "Name: Cover_Type, dtype: int64\n"
     ]
    }
   ],
   "source": [
    "for i in range(1, 41):\n",
    "    colname = \"Soil_Type\" + str(i)\n",
    "    subset = train[train[colname]==1]\n",
    "    print(colname)\n",
    "    print(subset[\"Cover_Type\"].value_counts())"
   ]
  },
  {
   "cell_type": "markdown",
   "metadata": {},
   "source": [
    "Findings:\n",
    "* Clear correlation between elevation and cover types\n",
    "* Clear correlation between the different wilderness areas and the cover types\n",
    "* Clear correlation between the various soil types and the cover types\n",
    "* The 7 cover types are equally distributed in our data set. As a result, we won't need to correct inbalance. "
   ]
  },
  {
   "cell_type": "markdown",
   "metadata": {},
   "source": [
    "## Engineering New Features\n",
    "\n",
    "At the moment, I don't see any feature engineering necessary. It might be relevant in the future to group soil types together to avoid overfitting, but for now, let's move on without."
   ]
  },
  {
   "cell_type": "markdown",
   "metadata": {},
   "source": [
    "## Testing different simple models\n",
    "We'll first split our dataset into a train and a test datasets.\n",
    "\n",
    "We'll then check the accuracy of different models, without any tuning or complexity. \n",
    "We'll use both the train/test to check accuracy, and the cross validation method, which allows for more reliable error measurements. "
   ]
  },
  {
   "cell_type": "code",
   "execution_count": 31,
   "metadata": {},
   "outputs": [],
   "source": [
    "# Let's start with splitting our data into train/test\n",
    "from sklearn.model_selection import train_test_split\n",
    "\n",
    "all_X = train.drop(\"Cover_Type\",axis=1)\n",
    "all_y = train[\"Cover_Type\"]\n",
    "\n",
    "train_X, test_X, train_y, test_y = train_test_split(all_X, all_y, test_size=.2, random_state=0)\n",
    "feat_labels = train_X.columns"
   ]
  },
  {
   "cell_type": "markdown",
   "metadata": {},
   "source": [
    "### Logistic regression"
   ]
  },
  {
   "cell_type": "code",
   "execution_count": 32,
   "metadata": {},
   "outputs": [
    {
     "name": "stdout",
     "output_type": "stream",
     "text": [
      "0.6752645502645502\n"
     ]
    }
   ],
   "source": [
    "from sklearn.metrics import accuracy_score\n",
    "from sklearn.linear_model import LogisticRegression\n",
    "\n",
    "lr = LogisticRegression()\n",
    "lr.fit(train_X, train_y)\n",
    "\n",
    "predictions = lr.predict(test_X)\n",
    "accuracy = accuracy_score(test_y, predictions)\n",
    "print(accuracy)"
   ]
  },
  {
   "cell_type": "code",
   "execution_count": 33,
   "metadata": {},
   "outputs": [
    {
     "name": "stdout",
     "output_type": "stream",
     "text": [
      "[0.67724868 0.67857143 0.66005291 0.66798942 0.65343915 0.66534392\n",
      " 0.67261905 0.66071429 0.66997354 0.66798942]\n",
      "0.6673941798941798\n"
     ]
    }
   ],
   "source": [
    "from sklearn.model_selection import cross_val_score\n",
    "import numpy as np\n",
    "\n",
    "lr = LogisticRegression()\n",
    "scores = cross_val_score(lr, all_X, all_y, cv=10)\n",
    "accuracy = np.mean(scores)\n",
    "print(scores)\n",
    "print(accuracy)"
   ]
  },
  {
   "cell_type": "code",
   "execution_count": 50,
   "metadata": {},
   "outputs": [
    {
     "name": "stdout",
     "output_type": "stream",
     "text": [
      "0.6685805934242182\n"
     ]
    }
   ],
   "source": [
    "from sklearn.model_selection import cross_val_score\n",
    "import numpy as np\n",
    "\n",
    "lr = LogisticRegression()\n",
    "scores = cross_val_score(lr, all_X, all_y, cv=25)\n",
    "lr_accuracy = np.mean(scores)\n",
    "accuracies = []\n",
    "accuracies.append(lr_accuracy)\n",
    "print(lr_accuracy)"
   ]
  },
  {
   "cell_type": "markdown",
   "metadata": {},
   "source": [
    "Using cross-validation, and 25 folds, we achieved an accuracy of 66.9% with logistic regression.\n",
    "Let's see if we get better results with decision trees. \n",
    "\n",
    "### Decision Tree "
   ]
  },
  {
   "cell_type": "code",
   "execution_count": 51,
   "metadata": {},
   "outputs": [
    {
     "name": "stdout",
     "output_type": "stream",
     "text": [
      "0.7870370370370371\n"
     ]
    }
   ],
   "source": [
    "from sklearn.tree import DecisionTreeClassifier\n",
    "\n",
    "dt = DecisionTreeClassifier()\n",
    "dt.fit(train_X, train_y)\n",
    "\n",
    "predictions = dt.predict(test_X)\n",
    "accuracy = accuracy_score(test_y, predictions)\n",
    "print(accuracy)"
   ]
  },
  {
   "cell_type": "code",
   "execution_count": 36,
   "metadata": {},
   "outputs": [
    {
     "name": "stdout",
     "output_type": "stream",
     "text": [
      "[0.79695767 0.7989418  0.79431217 0.79761905 0.78769841 0.80489418\n",
      " 0.81216931 0.78240741 0.79232804 0.79166667]\n",
      "0.795899470899471\n"
     ]
    }
   ],
   "source": [
    "dt = DecisionTreeClassifier()\n",
    "scores = cross_val_score(dt, all_X, all_y, cv=10)\n",
    "accuracy = np.mean(scores)\n",
    "print(scores)\n",
    "print(accuracy)"
   ]
  },
  {
   "cell_type": "code",
   "execution_count": 52,
   "metadata": {},
   "outputs": [
    {
     "name": "stdout",
     "output_type": "stream",
     "text": [
      "0.7956764806965287\n"
     ]
    }
   ],
   "source": [
    "dt = DecisionTreeClassifier()\n",
    "scores = cross_val_score(dt, all_X, all_y, cv=25)\n",
    "dt_accuracy = np.mean(scores)\n",
    "accuracies.append(dt_accuracy)\n",
    "print(dt_accuracy)"
   ]
  },
  {
   "cell_type": "markdown",
   "metadata": {},
   "source": [
    "The decision tree model from scikit learn performs better than the logistic regression model. \n",
    "\n",
    "### Random forest"
   ]
  },
  {
   "cell_type": "code",
   "execution_count": 38,
   "metadata": {},
   "outputs": [
    {
     "name": "stdout",
     "output_type": "stream",
     "text": [
      "0.8359788359788359\n"
     ]
    }
   ],
   "source": [
    "from sklearn.ensemble import RandomForestClassifier\n",
    "\n",
    "rf = RandomForestClassifier()\n",
    "rf.fit(train_X, train_y)\n",
    "\n",
    "predictions = rf.predict(test_X)\n",
    "accuracy = accuracy_score(test_y, predictions)\n",
    "print(accuracy)"
   ]
  },
  {
   "cell_type": "code",
   "execution_count": 39,
   "metadata": {},
   "outputs": [
    {
     "name": "stdout",
     "output_type": "stream",
     "text": [
      "[0.84193122 0.83333333 0.84126984 0.84193122 0.84060847 0.84126984\n",
      " 0.84854497 0.84457672 0.83730159 0.82936508]\n",
      "0.8400132275132275\n"
     ]
    }
   ],
   "source": [
    "rf = RandomForestClassifier()\n",
    "\n",
    "scores = cross_val_score(rf, all_X, all_y, cv=10)\n",
    "accuracy = np.mean(scores)\n",
    "print(scores)\n",
    "print(accuracy)"
   ]
  },
  {
   "cell_type": "code",
   "execution_count": 53,
   "metadata": {},
   "outputs": [
    {
     "name": "stdout",
     "output_type": "stream",
     "text": [
      "0.8390132508496582\n"
     ]
    }
   ],
   "source": [
    "rf = RandomForestClassifier()\n",
    "\n",
    "scores = cross_val_score(rf, all_X, all_y, cv=25)\n",
    "rf_accuracy = np.mean(scores)\n",
    "accuracies.append(rf_accuracy)\n",
    "print(rf_accuracy)"
   ]
  },
  {
   "cell_type": "markdown",
   "metadata": {},
   "source": [
    "The random forest model outperforms both the logistic regression and the decision tree classifier models with default settings. \n",
    "\n",
    "### K Neighbors"
   ]
  },
  {
   "cell_type": "code",
   "execution_count": 46,
   "metadata": {},
   "outputs": [
    {
     "name": "stdout",
     "output_type": "stream",
     "text": [
      "0.7996031746031746\n"
     ]
    }
   ],
   "source": [
    "from sklearn.neighbors import KNeighborsClassifier\n",
    "\n",
    "knn = KNeighborsClassifier()\n",
    "knn.fit(train_X, train_y)\n",
    "\n",
    "predictions = knn.predict(test_X)\n",
    "accuracy = accuracy_score(test_y, predictions)\n",
    "print(accuracy)"
   ]
  },
  {
   "cell_type": "code",
   "execution_count": 47,
   "metadata": {},
   "outputs": [
    {
     "name": "stdout",
     "output_type": "stream",
     "text": [
      "[0.81547619 0.81746032 0.80489418 0.80886243 0.79960317 0.81746032\n",
      " 0.8287037  0.80291005 0.82275132 0.81547619]\n",
      "0.8133597883597883\n"
     ]
    }
   ],
   "source": [
    "knn = KNeighborsClassifier()\n",
    "\n",
    "scores = cross_val_score(knn, all_X, all_y, cv=10)\n",
    "accuracy = np.mean(scores)\n",
    "print(scores)\n",
    "print(accuracy)"
   ]
  },
  {
   "cell_type": "code",
   "execution_count": 54,
   "metadata": {},
   "outputs": [
    {
     "name": "stdout",
     "output_type": "stream",
     "text": [
      "0.8201046320693473\n"
     ]
    }
   ],
   "source": [
    "knn = KNeighborsClassifier()\n",
    "\n",
    "scores = cross_val_score(knn, all_X, all_y, cv=25)\n",
    "knn_accuracy = np.mean(scores)\n",
    "accuracies.append(knn_accuracy)\n",
    "print(knn_accuracy)"
   ]
  },
  {
   "cell_type": "markdown",
   "metadata": {},
   "source": [
    "Finally, the K nearest neighbors model, with default settings, performed really well, but not as high as the random forest classifier. "
   ]
  },
  {
   "cell_type": "code",
   "execution_count": 57,
   "metadata": {},
   "outputs": [
    {
     "name": "stdout",
     "output_type": "stream",
     "text": [
      "RandomF    0.839013\n",
      "KNN        0.820105\n",
      "Tree       0.795676\n",
      "LogR       0.668581\n",
      "dtype: float64\n"
     ]
    }
   ],
   "source": [
    "model_name = [\"LogR\", \"Tree\", \"RandomF\", \"KNN\"]\n",
    "accuracy_summary = pd.Series(accuracies, index=model_name)\n",
    "accuracy_summary = accuracy_summary.sort_values(ascending=False)\n",
    "print(accuracy_summary)"
   ]
  },
  {
   "cell_type": "markdown",
   "metadata": {},
   "source": [
    "## Determining the Most Relevant Features\n",
    "When testing various simple models, without any fine tuning, the random forest classifier model performed best. \n",
    "Let's use it to determine the most relevant features. "
   ]
  },
  {
   "cell_type": "code",
   "execution_count": 91,
   "metadata": {},
   "outputs": [
    {
     "name": "stdout",
     "output_type": "stream",
     "text": [
      "('Elevation', 0.2245703922457845)\n",
      "('Aspect', 0.0495069476835203)\n",
      "('Slope', 0.03627169124140162)\n",
      "('Horizontal_Distance_To_Hydrology', 0.06224657899826843)\n",
      "('Vertical_Distance_To_Hydrology', 0.05367683709354754)\n",
      "('Horizontal_Distance_To_Roadways', 0.09281194472197814)\n",
      "('Hillshade_9am', 0.051215365107466604)\n",
      "('Hillshade_Noon', 0.0445754206750646)\n",
      "('Hillshade_3pm', 0.04611805853661619)\n",
      "('Horizontal_Distance_To_Fire_Points', 0.07321896450866822)\n",
      "('Wilderness_Area1', 0.01798901576973889)\n",
      "('Wilderness_Area2', 0.003793058136938862)\n",
      "('Wilderness_Area3', 0.016976837499295492)\n",
      "('Wilderness_Area4', 0.04510086302115764)\n",
      "('Soil_Type1', 0.001701714478488155)\n",
      "('Soil_Type2', 0.006384913633609718)\n",
      "('Soil_Type3', 0.019147644522499424)\n",
      "('Soil_Type4', 0.012568512095491808)\n",
      "('Soil_Type5', 0.0012306318082431521)\n",
      "('Soil_Type6', 0.002882569290901409)\n",
      "('Soil_Type7', 0.0)\n",
      "('Soil_Type8', 3.950888385864652e-06)\n",
      "('Soil_Type9', 0.00011080386871563528)\n",
      "('Soil_Type10', 0.022956413481975114)\n",
      "('Soil_Type11', 0.0032637012895779458)\n",
      "('Soil_Type12', 0.004528800684431248)\n",
      "('Soil_Type13', 0.0059654312433254295)\n",
      "('Soil_Type14', 0.0007356890997153088)\n",
      "('Soil_Type15', 0.0)\n",
      "('Soil_Type16', 0.0010731696038598255)\n",
      "('Soil_Type17', 0.005983339306394938)\n",
      "('Soil_Type18', 0.0008209516992095368)\n",
      "('Soil_Type19', 0.000374402129500396)\n",
      "('Soil_Type20', 0.0016353843132404808)\n",
      "('Soil_Type21', 0.00022889911101393296)\n",
      "('Soil_Type22', 0.005672182552711889)\n",
      "('Soil_Type23', 0.005220197639937223)\n",
      "('Soil_Type24', 0.0025115218265778145)\n",
      "('Soil_Type25', 1.6308180177460148e-05)\n",
      "('Soil_Type26', 0.00048041077290170283)\n",
      "('Soil_Type27', 0.00018479072192459332)\n",
      "('Soil_Type28', 0.00012842670044489773)\n",
      "('Soil_Type29', 0.005527478031964336)\n",
      "('Soil_Type30', 0.007958561844094082)\n",
      "('Soil_Type31', 0.0024282829112721193)\n",
      "('Soil_Type32', 0.004931381268855632)\n",
      "('Soil_Type33', 0.0036967360777055715)\n",
      "('Soil_Type34', 0.00029174351731756993)\n",
      "('Soil_Type35', 0.0023653014393103817)\n",
      "('Soil_Type36', 9.203538632881327e-05)\n",
      "('Soil_Type37', 0.0005655837334194639)\n",
      "('Soil_Type38', 0.019575018511034152)\n",
      "('Soil_Type39', 0.018232410245052576)\n",
      "('Soil_Type40', 0.010452730850943677)\n"
     ]
    }
   ],
   "source": [
    "# Fit model\n",
    "rf = RandomForestClassifier(n_estimators=10000, random_state=0, n_jobs=-1)\n",
    "rf.fit(all_X, all_y)\n",
    "\n",
    "# Print the name and gini importance of each feature\n",
    "for feature in zip(feat_labels, rf.feature_importances_):\n",
    "    print(feature)"
   ]
  },
  {
   "cell_type": "code",
   "execution_count": 120,
   "metadata": {},
   "outputs": [
    {
     "data": {
      "image/png": "[encoded data removed]",
      "text/plain": [
       "<Figure size 432x288 with 1 Axes>"
      ]
     },
     "metadata": {},
     "output_type": "display_data"
    }
   ],
   "source": [
    "df = pd.Series(rf.feature_importances_, index=feat_labels)\n",
    "df = df.sort_values(ascending=False)\n",
    "df.head()\n",
    "plt.barh(df.index[:20],df[:20])\n",
    "plt.title(\"top 20 features\")\n",
    "plt.show()"
   ]
  },
  {
   "cell_type": "code",
   "execution_count": 92,
   "metadata": {},
   "outputs": [
    {
     "data": {
      "text/plain": [
       "SelectFromModel(estimator=RandomForestClassifier(bootstrap=True, class_weight=None, criterion='gini',\n",
       "            max_depth=None, max_features='auto', max_leaf_nodes=None,\n",
       "            min_impurity_decrease=0.0, min_impurity_split=None,\n",
       "            min_samples_leaf=1, min_samples_split=2,\n",
       "            min_weight_fraction_leaf=0.0, n_estimators=10000, n_jobs=-1,\n",
       "            oob_score=False, random_state=0, verbose=0, warm_start=False),\n",
       "        norm_order=1, prefit=False, threshold=0.05)"
      ]
     },
     "execution_count": 92,
     "metadata": {},
     "output_type": "execute_result"
    }
   ],
   "source": [
    "from sklearn.feature_selection import SelectFromModel\n",
    "# Create a selector object that will use the random forest classifier to identify\n",
    "# features that have an importance of more than 0.05 (with higher threshold, only elevation is returned..)\n",
    "sfm = SelectFromModel(rf, threshold=0.05)\n",
    "\n",
    "# Train the selector\n",
    "sfm.fit(all_X, all_y)"
   ]
  },
  {
   "cell_type": "code",
   "execution_count": 93,
   "metadata": {
    "scrolled": true
   },
   "outputs": [
    {
     "name": "stdout",
     "output_type": "stream",
     "text": [
      "Elevation\n",
      "Horizontal_Distance_To_Hydrology\n",
      "Vertical_Distance_To_Hydrology\n",
      "Horizontal_Distance_To_Roadways\n",
      "Hillshade_9am\n",
      "Horizontal_Distance_To_Fire_Points\n"
     ]
    }
   ],
   "source": [
    "# Print the names of the most important features\n",
    "for feature_list_index in sfm.get_support(indices=True):\n",
    "    print(feat_labels[feature_list_index])"
   ]
  },
  {
   "cell_type": "markdown",
   "metadata": {},
   "source": [
    "## Selecting the Best-Performing Features\n",
    "\n",
    "Let's use scikit-learn's feature_selection.RFECV class to automate selecting the best-performing features using recursive feature elimination.\n",
    "\n",
    "To speed up our  workflow, we'll create a function that performs this step for us.\n",
    "\n",
    "We'll need an estimator as the first parameter when we instantiate a RFECV() object. We've  discovered in the Model Selection and Tuning mission that Random Forests seems to be a better algorithm for this Kaggle competition.\n",
    "\n",
    "**Note**: future dev, create similar function for the other feature selection (SelectfromModel) and see model performance with that one. "
   ]
  },
  {
   "cell_type": "code",
   "execution_count": 58,
   "metadata": {},
   "outputs": [
    {
     "name": "stdout",
     "output_type": "stream",
     "text": [
      "Best Columns \n",
      "------------\n",
      "['Elevation', 'Aspect', 'Slope', 'Horizontal_Distance_To_Hydrology', 'Vertical_Distance_To_Hydrology', 'Horizontal_Distance_To_Roadways', 'Hillshade_9am', 'Hillshade_Noon', 'Hillshade_3pm', 'Horizontal_Distance_To_Fire_Points', 'Wilderness_Area1', 'Wilderness_Area2', 'Wilderness_Area3', 'Wilderness_Area4', 'Soil_Type1', 'Soil_Type2', 'Soil_Type3', 'Soil_Type4', 'Soil_Type5', 'Soil_Type6', 'Soil_Type10', 'Soil_Type11', 'Soil_Type12', 'Soil_Type13', 'Soil_Type16', 'Soil_Type17', 'Soil_Type20', 'Soil_Type22', 'Soil_Type23', 'Soil_Type24', 'Soil_Type29', 'Soil_Type30', 'Soil_Type31', 'Soil_Type32', 'Soil_Type33', 'Soil_Type35', 'Soil_Type38', 'Soil_Type39', 'Soil_Type40']\n",
      "\n"
     ]
    }
   ],
   "source": [
    "from sklearn.feature_selection import RFECV\n",
    "from sklearn.ensemble import RandomForestClassifier\n",
    "\n",
    "def select_features(df):\n",
    "    all_X = df.drop(\"Cover_Type\", axis=1)\n",
    "    all_y = df[\"Cover_Type\"]\n",
    "    \n",
    "    clf = RandomForestClassifier(random_state=1)\n",
    "    selector = RFECV(clf, cv=10)\n",
    "    selector.fit(all_X, all_y)\n",
    "    \n",
    "    best_columns = list(all_X.columns[selector.support_])\n",
    "    print(\"Best Columns \\n\"+\"-\"*12+\"\\n{}\\n\".format(best_columns))\n",
    "    return best_columns\n",
    "    \n",
    "best_columns_rfecv = select_features(train)"
   ]
  },
  {
   "cell_type": "markdown",
   "metadata": {},
   "source": [
    "## Selecting and Tuning Different Algorithms\n",
    "The function below test various models and hyperparameters, and select the best performing combination (model + hyperparameters).  \n",
    "**Note:** \n",
    "- future improvement, add DecisionTreeClassifier and a selection of hyperparameter possibilities. \n",
    "- Other note: takes forever! So I had to take a sample instead of the full train dataset. "
   ]
  },
  {
   "cell_type": "code",
   "execution_count": 72,
   "metadata": {},
   "outputs": [
    {
     "name": "stdout",
     "output_type": "stream",
     "text": [
      "LogisticRegression\n",
      "------------------\n"
     ]
    },
    {
     "name": "stderr",
     "output_type": "stream",
     "text": [
      "/anaconda3/lib/python3.6/site-packages/sklearn/utils/optimize.py:203: ConvergenceWarning: newton-cg failed to converge. Increase the number of iterations.\n",
      "  \"number of iterations.\", ConvergenceWarning)\n",
      "/anaconda3/lib/python3.6/site-packages/scipy/optimize/linesearch.py:461: LineSearchWarning: The line search algorithm did not converge\n",
      "  warn('The line search algorithm did not converge', LineSearchWarning)\n",
      "/anaconda3/lib/python3.6/site-packages/scipy/optimize/linesearch.py:312: LineSearchWarning: The line search algorithm did not converge\n",
      "  warn('The line search algorithm did not converge', LineSearchWarning)\n",
      "/anaconda3/lib/python3.6/site-packages/sklearn/utils/optimize.py:203: ConvergenceWarning: newton-cg failed to converge. Increase the number of iterations.\n",
      "  \"number of iterations.\", ConvergenceWarning)\n",
      "/anaconda3/lib/python3.6/site-packages/scipy/optimize/linesearch.py:461: LineSearchWarning: The line search algorithm did not converge\n",
      "  warn('The line search algorithm did not converge', LineSearchWarning)\n",
      "/anaconda3/lib/python3.6/site-packages/scipy/optimize/linesearch.py:312: LineSearchWarning: The line search algorithm did not converge\n",
      "  warn('The line search algorithm did not converge', LineSearchWarning)\n",
      "/anaconda3/lib/python3.6/site-packages/sklearn/utils/optimize.py:203: ConvergenceWarning: newton-cg failed to converge. Increase the number of iterations.\n",
      "  \"number of iterations.\", ConvergenceWarning)\n",
      "/anaconda3/lib/python3.6/site-packages/scipy/optimize/linesearch.py:461: LineSearchWarning: The line search algorithm did not converge\n",
      "  warn('The line search algorithm did not converge', LineSearchWarning)\n",
      "/anaconda3/lib/python3.6/site-packages/scipy/optimize/linesearch.py:312: LineSearchWarning: The line search algorithm did not converge\n",
      "  warn('The line search algorithm did not converge', LineSearchWarning)\n",
      "/anaconda3/lib/python3.6/site-packages/sklearn/utils/optimize.py:203: ConvergenceWarning: newton-cg failed to converge. Increase the number of iterations.\n",
      "  \"number of iterations.\", ConvergenceWarning)\n",
      "/anaconda3/lib/python3.6/site-packages/sklearn/utils/optimize.py:203: ConvergenceWarning: newton-cg failed to converge. Increase the number of iterations.\n",
      "  \"number of iterations.\", ConvergenceWarning)\n",
      "/anaconda3/lib/python3.6/site-packages/scipy/optimize/linesearch.py:461: LineSearchWarning: The line search algorithm did not converge\n",
      "  warn('The line search algorithm did not converge', LineSearchWarning)\n",
      "/anaconda3/lib/python3.6/site-packages/scipy/optimize/linesearch.py:312: LineSearchWarning: The line search algorithm did not converge\n",
      "  warn('The line search algorithm did not converge', LineSearchWarning)\n",
      "/anaconda3/lib/python3.6/site-packages/sklearn/utils/optimize.py:203: ConvergenceWarning: newton-cg failed to converge. Increase the number of iterations.\n",
      "  \"number of iterations.\", ConvergenceWarning)\n",
      "/anaconda3/lib/python3.6/site-packages/scipy/optimize/linesearch.py:461: LineSearchWarning: The line search algorithm did not converge\n",
      "  warn('The line search algorithm did not converge', LineSearchWarning)\n",
      "/anaconda3/lib/python3.6/site-packages/scipy/optimize/linesearch.py:312: LineSearchWarning: The line search algorithm did not converge\n",
      "  warn('The line search algorithm did not converge', LineSearchWarning)\n",
      "/anaconda3/lib/python3.6/site-packages/sklearn/utils/optimize.py:203: ConvergenceWarning: newton-cg failed to converge. Increase the number of iterations.\n",
      "  \"number of iterations.\", ConvergenceWarning)\n",
      "/anaconda3/lib/python3.6/site-packages/sklearn/utils/optimize.py:203: ConvergenceWarning: newton-cg failed to converge. Increase the number of iterations.\n",
      "  \"number of iterations.\", ConvergenceWarning)\n",
      "/anaconda3/lib/python3.6/site-packages/scipy/optimize/linesearch.py:461: LineSearchWarning: The line search algorithm did not converge\n",
      "  warn('The line search algorithm did not converge', LineSearchWarning)\n",
      "/anaconda3/lib/python3.6/site-packages/scipy/optimize/linesearch.py:312: LineSearchWarning: The line search algorithm did not converge\n",
      "  warn('The line search algorithm did not converge', LineSearchWarning)\n",
      "/anaconda3/lib/python3.6/site-packages/sklearn/utils/optimize.py:203: ConvergenceWarning: newton-cg failed to converge. Increase the number of iterations.\n",
      "  \"number of iterations.\", ConvergenceWarning)\n",
      "/anaconda3/lib/python3.6/site-packages/scipy/optimize/linesearch.py:461: LineSearchWarning: The line search algorithm did not converge\n",
      "  warn('The line search algorithm did not converge', LineSearchWarning)\n",
      "/anaconda3/lib/python3.6/site-packages/scipy/optimize/linesearch.py:312: LineSearchWarning: The line search algorithm did not converge\n",
      "  warn('The line search algorithm did not converge', LineSearchWarning)\n",
      "/anaconda3/lib/python3.6/site-packages/sklearn/utils/optimize.py:203: ConvergenceWarning: newton-cg failed to converge. Increase the number of iterations.\n",
      "  \"number of iterations.\", ConvergenceWarning)\n",
      "/anaconda3/lib/python3.6/site-packages/sklearn/utils/optimize.py:203: ConvergenceWarning: newton-cg failed to converge. Increase the number of iterations.\n",
      "  \"number of iterations.\", ConvergenceWarning)\n"
     ]
    },
    {
     "name": "stdout",
     "output_type": "stream",
     "text": [
      "Best params: {'solver': 'newton-cg'}\n",
      "Best score: 0.6748\n",
      "KNeighborsClassifier\n",
      "--------------------\n",
      "Best params: {'algorithm': 'ball_tree', 'n_neighbors': 1, 'p': 1, 'weights': 'distance'}\n",
      "Best score: 0.8338\n",
      "RandomForestClassifier\n",
      "----------------------\n",
      "Best params: {'criterion': 'entropy', 'max_depth': 10, 'max_features': 'sqrt', 'min_samples_leaf': 1, 'min_samples_split': 2, 'n_estimators': 9}\n",
      "Best score: 0.788\n"
     ]
    }
   ],
   "source": [
    "from sklearn.model_selection import GridSearchCV\n",
    "from sklearn.neighbors import KNeighborsClassifier\n",
    "from sklearn.linear_model import LogisticRegression\n",
    "\n",
    "def select_model(df, feature_list):\n",
    "    all_X = df[feature_list]\n",
    "    all_y = df[\"Cover_Type\"]\n",
    "    # list of dictionaries, each containing a model name, \n",
    "    #its estimator and a dictionary of hyperparameters:\n",
    "    models = [\n",
    "        {\n",
    "           \"name\":  \"LogisticRegression\",\n",
    "            \"estimator\": LogisticRegression(),\n",
    "            \"hyperparameters\": {\n",
    "                \"solver\": [\"newton-cg\", \"lbfgs\", \"liblinear\"]\n",
    "            } # Best params: {'solver': 'newton-cg'} # Best score: 0.6731481481481482\n",
    "        },\n",
    "        {\n",
    "            \"name\":  \"KNeighborsClassifier\",\n",
    "            \"estimator\": KNeighborsClassifier(),\n",
    "            \"hyperparameters\": { \n",
    "                \"n_neighbors\": range(1,10,3),\n",
    "                \"weights\": [\"distance\", \"uniform\"],\n",
    "                \"algorithm\": [\"ball_tree\", \"brute\"], #removed kd_tree to speed up process\n",
    "                \"p\": [1,2]\n",
    "            }\n",
    "        },\n",
    "        {\n",
    "            \"name\":  \"RandomForestClassifier\",\n",
    "            \"estimator\": RandomForestClassifier(),\n",
    "            \"hyperparameters\": { \n",
    "                \"n_estimators\": [4,6,9],\n",
    "                \"criterion\": [\"entropy\", \"gini\"],\n",
    "                \"max_depth\": [2,5,10],\n",
    "                \"max_features\": [\"log2\", \"sqrt\"],\n",
    "                \"min_samples_leaf\": [1,5,8],\n",
    "                \"min_samples_split\": [2,3,5]\n",
    "            } # Best params: {'criterion': 'entropy', 'max_depth': 10, 'max_features': 'sqrt', 'min_samples_leaf': 1, 'min_samples_split': 3, 'n_estimators': 9}\n",
    "                #Best score: 0.7790343915343916\n",
    "        }\n",
    "    ]\n",
    "    for model in models:\n",
    "        print(model[\"name\"])\n",
    "        print('-'*len(model[\"name\"]))\n",
    "        grid = GridSearchCV(model[\"estimator\"], \n",
    "                            param_grid=model[\"hyperparameters\"], \n",
    "                            cv=10)\n",
    "        grid.fit(all_X, all_y)\n",
    "        \n",
    "        model[\"best_params\"] = grid.best_params_\n",
    "        model[\"best_score\"] = grid.best_score_\n",
    "        model[\"best_model\"] = grid.best_estimator_\n",
    "        \n",
    "        print(\"Best params: %s\" % model[\"best_params\"])\n",
    "        print(\"Best score: %s\" % model[\"best_score\"])\n",
    "        \n",
    "    return models\n",
    "\n",
    "smaller_train = train.sample(n=5000,replace=\"False\")\n",
    "best_model_rfecv = select_model(smaller_train, best_columns_rfecv)"
   ]
  },
  {
   "cell_type": "code",
   "execution_count": 82,
   "metadata": {
    "_uuid": "ccfa0fb442090c2f4848f9c47db242d8dafb6175"
   },
   "outputs": [],
   "source": [
    "def save_submission_file(model, cols, filename=\"submission.csv\"):\n",
    "    holdout_predictions = model.predict(holdout[cols])\n",
    "    holdout_ids = holdout[\"Id\"]\n",
    "    \n",
    "    submission_df = {\"Id\": holdout_ids,\n",
    "                    \"Cover_Type\": holdout_predictions}\n",
    "    submission = pd.DataFrame(submission_df)\n",
    "    submission.to_csv(filename, index=False)\n",
    "    \n",
    "# the best model is the second one (index 1), the K Neighbors Classifier. \n",
    "best_model = best_model_rfecv[1][\"best_model\"]\n",
    "save_submission_file(best_model,best_columns_rfecv)"
   ]
  },
  {
   "cell_type": "markdown",
   "metadata": {},
   "source": [
    "## Conclusion\n",
    "\n",
    "By performing feature selection and model selection, we found that our best model was the **K nearest neighbor model**, with the following parameters: {'algorithm': 'ball_tree', 'n_neighbors': 1, 'p': 1, 'weights': 'distance'}. Our selected features are the following:\n",
    "'Elevation', 'Aspect', 'Slope', 'Horizontal_Distance_To_Hydrology', 'Vertical_Distance_To_Hydrology', 'Horizontal_Distance_To_Roadways', 'Hillshade_9am', 'Hillshade_Noon', 'Hillshade_3pm', 'Horizontal_Distance_To_Fire_Points', 'Wilderness_Area1', 'Wilderness_Area2', 'Wilderness_Area3', 'Wilderness_Area4', 'Soil_Type1', 'Soil_Type2', 'Soil_Type3', 'Soil_Type4', 'Soil_Type5', 'Soil_Type6', 'Soil_Type10', 'Soil_Type11', 'Soil_Type12', 'Soil_Type13', 'Soil_Type16', 'Soil_Type17', 'Soil_Type20', 'Soil_Type22', 'Soil_Type23', 'Soil_Type24', 'Soil_Type29', 'Soil_Type30', 'Soil_Type31', 'Soil_Type32', 'Soil_Type33', 'Soil_Type35', 'Soil_Type38', 'Soil_Type39', 'Soil_Type40'. \n",
    "\n",
    "Let's submit it on Kaggle and see how well we perform. "
   ]
  }
 ],
 "metadata": {
  "kernelspec": {
   "display_name": "Python 3",
   "language": "python",
   "name": "python3"
  },
  "language_info": {
   "codemirror_mode": {
    "name": "ipython",
    "version": 3
   },
   "file_extension": ".py",
   "mimetype": "text/x-python",
   "name": "python",
   "nbconvert_exporter": "python",
   "pygments_lexer": "ipython3",
   "version": "3.6.4"
  }
 },
 "nbformat": 4,
 "nbformat_minor": 1
}
